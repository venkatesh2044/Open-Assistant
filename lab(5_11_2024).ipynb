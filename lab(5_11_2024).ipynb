{
  "cells": [
    {
      "cell_type": "markdown",
      "metadata": {
        "id": "view-in-github",
        "colab_type": "text"
      },
      "source": [
        "<a href=\"https://colab.research.google.com/github/venkatesh2044/Open-Assistant/blob/main/lab(5_11_2024).ipynb\" target=\"_parent\"><img src=\"https://colab.research.google.com/assets/colab-badge.svg\" alt=\"Open In Colab\"/></a>"
      ]
    },
    {
      "cell_type": "code",
      "execution_count": null,
      "id": "e3b9e589-1f54-45ec-a39b-110f4a9f0c3a",
      "metadata": {
        "id": "e3b9e589-1f54-45ec-a39b-110f4a9f0c3a",
        "outputId": "c243a1d9-c9f7-40f0-9603-04a63d9791ee"
      },
      "outputs": [
        {
          "data": {
            "text/plain": [
              "array([12, 17,  6,  9,  7])"
            ]
          },
          "execution_count": 1,
          "metadata": {},
          "output_type": "execute_result"
        }
      ],
      "source": [
        "import numpy as np\n",
        "sizes=np.array([12,17,6,9,7])\n",
        "sizes"
      ]
    },
    {
      "cell_type": "code",
      "execution_count": null,
      "id": "dcc38609-4642-4496-8263-48f74df99a98",
      "metadata": {
        "id": "dcc38609-4642-4496-8263-48f74df99a98",
        "outputId": "9d360fda-965e-40f3-e1c1-ddedac0039ea"
      },
      "outputs": [
        {
          "data": {
            "text/plain": [
              "array([ 6,  7,  9, 12, 17])"
            ]
          },
          "execution_count": 3,
          "metadata": {},
          "output_type": "execute_result"
        }
      ],
      "source": [
        "np.sort(sizes)"
      ]
    },
    {
      "cell_type": "code",
      "execution_count": null,
      "id": "a0ecc800-e79e-4a52-a12a-5933ddbb3e20",
      "metadata": {
        "id": "a0ecc800-e79e-4a52-a12a-5933ddbb3e20",
        "outputId": "f3732640-12fa-49f8-eec0-9c2b228c2c7b"
      },
      "outputs": [
        {
          "data": {
            "text/plain": [
              "12"
            ]
          },
          "execution_count": 12,
          "metadata": {},
          "output_type": "execute_result"
        }
      ],
      "source": [
        "np.percentile(sizes, 70,interpolation='higher')"
      ]
    },
    {
      "cell_type": "code",
      "execution_count": null,
      "id": "d96696e3-47e5-40e6-aa93-7b63cfcef9a0",
      "metadata": {
        "id": "d96696e3-47e5-40e6-aa93-7b63cfcef9a0",
        "outputId": "cccd08d5-7e02-40a2-f27d-3d2838b99afb"
      },
      "outputs": [
        {
          "data": {
            "text/html": [
              "<div>\n",
              "<style scoped>\n",
              "    .dataframe tbody tr th:only-of-type {\n",
              "        vertical-align: middle;\n",
              "    }\n",
              "\n",
              "    .dataframe tbody tr th {\n",
              "        vertical-align: top;\n",
              "    }\n",
              "\n",
              "    .dataframe thead th {\n",
              "        text-align: right;\n",
              "    }\n",
              "</style>\n",
              "<table border=\"1\" class=\"dataframe\">\n",
              "  <thead>\n",
              "    <tr style=\"text-align: right;\">\n",
              "      <th></th>\n",
              "      <th>Section</th>\n",
              "      <th>Midterm</th>\n",
              "    </tr>\n",
              "  </thead>\n",
              "  <tbody>\n",
              "    <tr>\n",
              "      <th>0</th>\n",
              "      <td>1</td>\n",
              "      <td>22</td>\n",
              "    </tr>\n",
              "    <tr>\n",
              "      <th>1</th>\n",
              "      <td>2</td>\n",
              "      <td>12</td>\n",
              "    </tr>\n",
              "    <tr>\n",
              "      <th>2</th>\n",
              "      <td>2</td>\n",
              "      <td>23</td>\n",
              "    </tr>\n",
              "    <tr>\n",
              "      <th>3</th>\n",
              "      <td>2</td>\n",
              "      <td>14</td>\n",
              "    </tr>\n",
              "    <tr>\n",
              "      <th>4</th>\n",
              "      <td>1</td>\n",
              "      <td>20</td>\n",
              "    </tr>\n",
              "    <tr>\n",
              "      <th>...</th>\n",
              "      <td>...</td>\n",
              "      <td>...</td>\n",
              "    </tr>\n",
              "    <tr>\n",
              "      <th>354</th>\n",
              "      <td>5</td>\n",
              "      <td>24</td>\n",
              "    </tr>\n",
              "    <tr>\n",
              "      <th>355</th>\n",
              "      <td>2</td>\n",
              "      <td>16</td>\n",
              "    </tr>\n",
              "    <tr>\n",
              "      <th>356</th>\n",
              "      <td>2</td>\n",
              "      <td>17</td>\n",
              "    </tr>\n",
              "    <tr>\n",
              "      <th>357</th>\n",
              "      <td>12</td>\n",
              "      <td>16</td>\n",
              "    </tr>\n",
              "    <tr>\n",
              "      <th>358</th>\n",
              "      <td>10</td>\n",
              "      <td>14</td>\n",
              "    </tr>\n",
              "  </tbody>\n",
              "</table>\n",
              "<p>359 rows × 2 columns</p>\n",
              "</div>"
            ],
            "text/plain": [
              "     Section  Midterm\n",
              "0          1       22\n",
              "1          2       12\n",
              "2          2       23\n",
              "3          2       14\n",
              "4          1       20\n",
              "..       ...      ...\n",
              "354        5       24\n",
              "355        2       16\n",
              "356        2       17\n",
              "357       12       16\n",
              "358       10       14\n",
              "\n",
              "[359 rows x 2 columns]"
            ]
          },
          "execution_count": 14,
          "metadata": {},
          "output_type": "execute_result"
        }
      ],
      "source": [
        "import pandas as pd\n",
        "scores_and_sections=pd.read_csv('scores_by_section.csv')\n",
        "scores_and_sections"
      ]
    },
    {
      "cell_type": "code",
      "execution_count": null,
      "id": "2f8c3caf-428e-458f-9726-98eb7ddc2aa9",
      "metadata": {
        "id": "2f8c3caf-428e-458f-9726-98eb7ddc2aa9",
        "outputId": "7358b703-87fc-423a-adf4-24591e60f938"
      },
      "outputs": [
        {
          "name": "stderr",
          "output_type": "stream",
          "text": [
            "C:\\Users\\bogel\\AppData\\Local\\Temp\\ipykernel_8180\\3080944306.py:14: UserWarning: set_ticklabels() should only be used with a fixed number of ticks, i.e. after set_ticks() or using a FixedLocator.\n",
            "  ax.set_yticklabels(['{:g}'.format(x * 100) for x in y_vals])\n"
          ]
        },
        {
          "data": {
            "image/png": "[encoded data removed]",
            "text/plain": [
              "<Figure size 1000x500 with 1 Axes>"
            ]
          },
          "metadata": {},
          "output_type": "display_data"
        }
      ],
      "source": [
        "import matplotlib.pyplot as plt\n",
        "unit = ''\n",
        "\n",
        "fig, ax = plt.subplots(figsize=(10,5))\n",
        "\n",
        "ax.hist(scores_and_sections['Midterm'], bins = np.arange(-0.5, 25.6, 1), density=True, alpha=0.8, ec='white')\n",
        "\n",
        "y_vals = ax.get_yticks()\n",
        "\n",
        "y_label = 'Percent per ' + (unit if unit else 'unit')\n",
        "\n",
        "x_label = 'Midterm'\n",
        "\n",
        "ax.set_yticklabels(['{:g}'.format(x * 100) for x in y_vals])\n",
        "\n",
        "plt.ylabel(y_label)\n",
        "\n",
        "plt.xlabel(x_label)\n",
        "\n",
        "plt.title('');\n",
        "\n",
        "plt.show()"
      ]
    },
    {
      "cell_type": "code",
      "execution_count": null,
      "id": "073789ed-4947-4ead-8a62-01c39b8aae34",
      "metadata": {
        "id": "073789ed-4947-4ead-8a62-01c39b8aae34"
      },
      "outputs": [],
      "source": [
        "scores = scores_and_sections.iloc[:,1]\n"
      ]
    },
    {
      "cell_type": "code",
      "execution_count": null,
      "id": "279b778f-35e8-45e4-b0e4-233238002811",
      "metadata": {
        "id": "279b778f-35e8-45e4-b0e4-233238002811",
        "outputId": "332a91b2-8778-4d12-8af1-49345ff9d5f1"
      },
      "outputs": [
        {
          "data": {
            "text/plain": [
              "22"
            ]
          },
          "execution_count": 22,
          "metadata": {},
          "output_type": "execute_result"
        }
      ],
      "source": [
        "np.percentile(scores,85,interpolation='nearest')"
      ]
    },
    {
      "cell_type": "code",
      "execution_count": null,
      "id": "11f59d43-e67a-4fad-81eb-2ce9f17ffec2",
      "metadata": {
        "id": "11f59d43-e67a-4fad-81eb-2ce9f17ffec2"
      },
      "outputs": [],
      "source": [
        "sorted_scores = np.sort(scores_and_sections.iloc[:,1])"
      ]
    },
    {
      "cell_type": "code",
      "execution_count": null,
      "id": "85da81ab-a2bc-416f-bc5e-3960859833bf",
      "metadata": {
        "id": "85da81ab-a2bc-416f-bc5e-3960859833bf",
        "outputId": "a7d6b3ad-e15a-4935-af0b-ac01b8605dfa"
      },
      "outputs": [
        {
          "data": {
            "text/plain": [
              "305.15"
            ]
          },
          "execution_count": 26,
          "metadata": {},
          "output_type": "execute_result"
        }
      ],
      "source": [
        "0.85 * 359"
      ]
    },
    {
      "cell_type": "code",
      "execution_count": null,
      "id": "d68e2371-7c0f-455f-8ff3-bd72aa5ae710",
      "metadata": {
        "id": "d68e2371-7c0f-455f-8ff3-bd72aa5ae710",
        "outputId": "629dd4bd-b250-4df4-9ac3-9c64a8079d1f"
      },
      "outputs": [
        {
          "data": {
            "text/plain": [
              "22"
            ]
          },
          "execution_count": 28,
          "metadata": {},
          "output_type": "execute_result"
        }
      ],
      "source": [
        "# The 306th element of the sorted array\n",
        "\n",
        "sorted_scores.item(305)"
      ]
    },
    {
      "cell_type": "code",
      "execution_count": null,
      "id": "bb218ef3-efdc-471a-af13-0e210a1ac801",
      "metadata": {
        "id": "bb218ef3-efdc-471a-af13-0e210a1ac801",
        "outputId": "7cf15fb4-7b63-4139-9f66-a0a57ef44c83"
      },
      "outputs": [
        {
          "data": {
            "text/plain": [
              "11"
            ]
          },
          "execution_count": 30,
          "metadata": {},
          "output_type": "execute_result"
        }
      ],
      "source": [
        "np.percentile(scores, 25, interpolation='nearest')"
      ]
    },
    {
      "cell_type": "code",
      "execution_count": null,
      "id": "88a9bd1d-3354-449e-888a-531d525eb8e3",
      "metadata": {
        "id": "88a9bd1d-3354-449e-888a-531d525eb8e3",
        "outputId": "08f69564-d4c4-4240-c644-89f5a0d49400"
      },
      "outputs": [
        {
          "data": {
            "text/plain": [
              "16"
            ]
          },
          "execution_count": 32,
          "metadata": {},
          "output_type": "execute_result"
        }
      ],
      "source": [
        "np.percentile(scores, 50, interpolation='nearest')"
      ]
    },
    {
      "cell_type": "code",
      "execution_count": null,
      "id": "3fdd259e-adcc-4641-8094-ffae31f98ec7",
      "metadata": {
        "id": "3fdd259e-adcc-4641-8094-ffae31f98ec7",
        "outputId": "0d0c2942-f56b-4244-cdd7-ecdb28445e3c"
      },
      "outputs": [
        {
          "data": {
            "text/plain": [
              "20"
            ]
          },
          "execution_count": 34,
          "metadata": {},
          "output_type": "execute_result"
        }
      ],
      "source": [
        "np.percentile(scores, 75, interpolation='nearest')"
      ]
    },
    {
      "cell_type": "markdown",
      "id": "7b30f911-ec07-4c06-9478-1aad338c1453",
      "metadata": {
        "id": "7b30f911-ec07-4c06-9478-1aad338c1453"
      },
      "source": [
        "bootstrap"
      ]
    },
    {
      "cell_type": "code",
      "execution_count": null,
      "id": "3d9d0d91-426f-4a25-8eea-911533621e8d",
      "metadata": {
        "scrolled": true,
        "id": "3d9d0d91-426f-4a25-8eea-911533621e8d"
      },
      "outputs": [],
      "source": [
        "sf2015 = pd.read_csv('san_francisco_2015.csv')"
      ]
    },
    {
      "cell_type": "code",
      "execution_count": null,
      "id": "f36fbd06-206e-45b0-b7df-35fba21dce1e",
      "metadata": {
        "id": "f36fbd06-206e-45b0-b7df-35fba21dce1e",
        "outputId": "d310c212-52c3-4a6f-de0e-21e15f7e6332"
      },
      "outputs": [
        {
          "data": {
            "text/html": [
              "<div>\n",
              "<style scoped>\n",
              "    .dataframe tbody tr th:only-of-type {\n",
              "        vertical-align: middle;\n",
              "    }\n",
              "\n",
              "    .dataframe tbody tr th {\n",
              "        vertical-align: top;\n",
              "    }\n",
              "\n",
              "    .dataframe thead th {\n",
              "        text-align: right;\n",
              "    }\n",
              "</style>\n",
              "<table border=\"1\" class=\"dataframe\">\n",
              "  <thead>\n",
              "    <tr style=\"text-align: right;\">\n",
              "      <th></th>\n",
              "      <th>Year Type</th>\n",
              "      <th>Year</th>\n",
              "      <th>Organization Group Code</th>\n",
              "      <th>Organization Group</th>\n",
              "      <th>Department Code</th>\n",
              "      <th>Department</th>\n",
              "      <th>Union Code</th>\n",
              "      <th>Union</th>\n",
              "      <th>Job Family Code</th>\n",
              "      <th>Job Family</th>\n",
              "      <th>...</th>\n",
              "      <th>Employee Identifier</th>\n",
              "      <th>Salaries</th>\n",
              "      <th>Overtime</th>\n",
              "      <th>Other Salaries</th>\n",
              "      <th>Total Salary</th>\n",
              "      <th>Retirement</th>\n",
              "      <th>Health/Dental</th>\n",
              "      <th>Other Benefits</th>\n",
              "      <th>Total Benefits</th>\n",
              "      <th>Total Compensation</th>\n",
              "    </tr>\n",
              "  </thead>\n",
              "  <tbody>\n",
              "    <tr>\n",
              "      <th>0</th>\n",
              "      <td>Calendar</td>\n",
              "      <td>2015</td>\n",
              "      <td>2</td>\n",
              "      <td>Public Works, Transportation &amp; Commerce</td>\n",
              "      <td>WTR</td>\n",
              "      <td>PUC Water Department</td>\n",
              "      <td>21.0</td>\n",
              "      <td>Prof &amp; Tech Engineers - Miscellaneous, Local 21</td>\n",
              "      <td>2400</td>\n",
              "      <td>Lab, Pharmacy &amp; Med Techs</td>\n",
              "      <td>...</td>\n",
              "      <td>21538</td>\n",
              "      <td>82146.04</td>\n",
              "      <td>0.00</td>\n",
              "      <td>0.00</td>\n",
              "      <td>82146.04</td>\n",
              "      <td>16942.21</td>\n",
              "      <td>12340.88</td>\n",
              "      <td>6337.73</td>\n",
              "      <td>35620.82</td>\n",
              "      <td>117766.86</td>\n",
              "    </tr>\n",
              "    <tr>\n",
              "      <th>1</th>\n",
              "      <td>Calendar</td>\n",
              "      <td>2015</td>\n",
              "      <td>2</td>\n",
              "      <td>Public Works, Transportation &amp; Commerce</td>\n",
              "      <td>DPW</td>\n",
              "      <td>General Services Agency - Public Works</td>\n",
              "      <td>12.0</td>\n",
              "      <td>Carpet, Linoleum and Soft Tile Workers, Local 12</td>\n",
              "      <td>7300</td>\n",
              "      <td>Journeyman Trade</td>\n",
              "      <td>...</td>\n",
              "      <td>5459</td>\n",
              "      <td>32165.75</td>\n",
              "      <td>973.19</td>\n",
              "      <td>848.96</td>\n",
              "      <td>33987.90</td>\n",
              "      <td>0.00</td>\n",
              "      <td>4587.51</td>\n",
              "      <td>2634.42</td>\n",
              "      <td>7221.93</td>\n",
              "      <td>41209.83</td>\n",
              "    </tr>\n",
              "    <tr>\n",
              "      <th>2</th>\n",
              "      <td>Calendar</td>\n",
              "      <td>2015</td>\n",
              "      <td>4</td>\n",
              "      <td>Community Health</td>\n",
              "      <td>DPH</td>\n",
              "      <td>Public Health</td>\n",
              "      <td>790.0</td>\n",
              "      <td>SEIU - Miscellaneous, Local 1021</td>\n",
              "      <td>1600</td>\n",
              "      <td>Payroll, Billing &amp; Accounting</td>\n",
              "      <td>...</td>\n",
              "      <td>41541</td>\n",
              "      <td>71311.00</td>\n",
              "      <td>5757.98</td>\n",
              "      <td>0.00</td>\n",
              "      <td>77068.98</td>\n",
              "      <td>14697.59</td>\n",
              "      <td>12424.50</td>\n",
              "      <td>6370.06</td>\n",
              "      <td>33492.15</td>\n",
              "      <td>110561.13</td>\n",
              "    </tr>\n",
              "    <tr>\n",
              "      <th>3</th>\n",
              "      <td>Calendar</td>\n",
              "      <td>2015</td>\n",
              "      <td>4</td>\n",
              "      <td>Community Health</td>\n",
              "      <td>DPH</td>\n",
              "      <td>Public Health</td>\n",
              "      <td>351.0</td>\n",
              "      <td>Municipal Executive Association - Miscellaneous</td>\n",
              "      <td>0900</td>\n",
              "      <td>Management</td>\n",
              "      <td>...</td>\n",
              "      <td>26718</td>\n",
              "      <td>28430.25</td>\n",
              "      <td>0.00</td>\n",
              "      <td>763.07</td>\n",
              "      <td>29193.32</td>\n",
              "      <td>0.00</td>\n",
              "      <td>4223.14</td>\n",
              "      <td>5208.51</td>\n",
              "      <td>9431.65</td>\n",
              "      <td>38624.97</td>\n",
              "    </tr>\n",
              "    <tr>\n",
              "      <th>4</th>\n",
              "      <td>Calendar</td>\n",
              "      <td>2015</td>\n",
              "      <td>2</td>\n",
              "      <td>Public Works, Transportation &amp; Commerce</td>\n",
              "      <td>MTA</td>\n",
              "      <td>Municipal Transportation Agency</td>\n",
              "      <td>790.0</td>\n",
              "      <td>SEIU - Miscellaneous, Local 1021</td>\n",
              "      <td>8200</td>\n",
              "      <td>Protection &amp; Apprehension</td>\n",
              "      <td>...</td>\n",
              "      <td>45810</td>\n",
              "      <td>7948.75</td>\n",
              "      <td>0.00</td>\n",
              "      <td>0.00</td>\n",
              "      <td>7948.75</td>\n",
              "      <td>0.00</td>\n",
              "      <td>2873.17</td>\n",
              "      <td>616.24</td>\n",
              "      <td>3489.41</td>\n",
              "      <td>11438.16</td>\n",
              "    </tr>\n",
              "    <tr>\n",
              "      <th>...</th>\n",
              "      <td>...</td>\n",
              "      <td>...</td>\n",
              "      <td>...</td>\n",
              "      <td>...</td>\n",
              "      <td>...</td>\n",
              "      <td>...</td>\n",
              "      <td>...</td>\n",
              "      <td>...</td>\n",
              "      <td>...</td>\n",
              "      <td>...</td>\n",
              "      <td>...</td>\n",
              "      <td>...</td>\n",
              "      <td>...</td>\n",
              "      <td>...</td>\n",
              "      <td>...</td>\n",
              "      <td>...</td>\n",
              "      <td>...</td>\n",
              "      <td>...</td>\n",
              "      <td>...</td>\n",
              "      <td>...</td>\n",
              "      <td>...</td>\n",
              "    </tr>\n",
              "    <tr>\n",
              "      <th>42984</th>\n",
              "      <td>Calendar</td>\n",
              "      <td>2015</td>\n",
              "      <td>2</td>\n",
              "      <td>Public Works, Transportation &amp; Commerce</td>\n",
              "      <td>MTA</td>\n",
              "      <td>Municipal Transportation Agency</td>\n",
              "      <td>200.0</td>\n",
              "      <td>Transportation Workers, Local 200</td>\n",
              "      <td>9100</td>\n",
              "      <td>Street Transit</td>\n",
              "      <td>...</td>\n",
              "      <td>13250</td>\n",
              "      <td>80691.52</td>\n",
              "      <td>11865.91</td>\n",
              "      <td>3290.29</td>\n",
              "      <td>95847.72</td>\n",
              "      <td>16909.07</td>\n",
              "      <td>12244.02</td>\n",
              "      <td>7788.00</td>\n",
              "      <td>36941.09</td>\n",
              "      <td>132788.81</td>\n",
              "    </tr>\n",
              "    <tr>\n",
              "      <th>42985</th>\n",
              "      <td>Calendar</td>\n",
              "      <td>2015</td>\n",
              "      <td>4</td>\n",
              "      <td>Community Health</td>\n",
              "      <td>DPH</td>\n",
              "      <td>Public Health</td>\n",
              "      <td>791.0</td>\n",
              "      <td>SEIU - Staff and Per Diem Nurses, Local 1021</td>\n",
              "      <td>2300</td>\n",
              "      <td>Nursing</td>\n",
              "      <td>...</td>\n",
              "      <td>14845</td>\n",
              "      <td>7559.66</td>\n",
              "      <td>0.00</td>\n",
              "      <td>0.00</td>\n",
              "      <td>7559.66</td>\n",
              "      <td>153.74</td>\n",
              "      <td>0.00</td>\n",
              "      <td>2132.23</td>\n",
              "      <td>2285.97</td>\n",
              "      <td>9845.63</td>\n",
              "    </tr>\n",
              "    <tr>\n",
              "      <th>42986</th>\n",
              "      <td>Calendar</td>\n",
              "      <td>2015</td>\n",
              "      <td>1</td>\n",
              "      <td>Public Protection</td>\n",
              "      <td>POL</td>\n",
              "      <td>Police</td>\n",
              "      <td>911.0</td>\n",
              "      <td>Police Officers' Association</td>\n",
              "      <td>Q000</td>\n",
              "      <td>Police Services</td>\n",
              "      <td>...</td>\n",
              "      <td>40128</td>\n",
              "      <td>48843.58</td>\n",
              "      <td>2965.85</td>\n",
              "      <td>3316.21</td>\n",
              "      <td>55125.64</td>\n",
              "      <td>11047.55</td>\n",
              "      <td>6212.24</td>\n",
              "      <td>910.16</td>\n",
              "      <td>18169.95</td>\n",
              "      <td>73295.59</td>\n",
              "    </tr>\n",
              "    <tr>\n",
              "      <th>42987</th>\n",
              "      <td>Calendar</td>\n",
              "      <td>2015</td>\n",
              "      <td>6</td>\n",
              "      <td>General Administration &amp; Finance</td>\n",
              "      <td>ADM</td>\n",
              "      <td>General Services Agency - City Admin</td>\n",
              "      <td>39.0</td>\n",
              "      <td>Stationary Engineers, Local 39</td>\n",
              "      <td>7300</td>\n",
              "      <td>Journeyman Trade</td>\n",
              "      <td>...</td>\n",
              "      <td>48315</td>\n",
              "      <td>16319.20</td>\n",
              "      <td>0.00</td>\n",
              "      <td>0.00</td>\n",
              "      <td>16319.20</td>\n",
              "      <td>0.00</td>\n",
              "      <td>2389.32</td>\n",
              "      <td>1264.85</td>\n",
              "      <td>3654.17</td>\n",
              "      <td>19973.37</td>\n",
              "    </tr>\n",
              "    <tr>\n",
              "      <th>42988</th>\n",
              "      <td>Calendar</td>\n",
              "      <td>2015</td>\n",
              "      <td>6</td>\n",
              "      <td>General Administration &amp; Finance</td>\n",
              "      <td>ADM</td>\n",
              "      <td>General Services Agency - City Admin</td>\n",
              "      <td>856.0</td>\n",
              "      <td>Teamsters - Miscellaneous, Local 856</td>\n",
              "      <td>3300</td>\n",
              "      <td>Park &amp; Zoo</td>\n",
              "      <td>...</td>\n",
              "      <td>17657</td>\n",
              "      <td>34267.20</td>\n",
              "      <td>344.85</td>\n",
              "      <td>1256.89</td>\n",
              "      <td>35868.94</td>\n",
              "      <td>8643.54</td>\n",
              "      <td>8458.22</td>\n",
              "      <td>2842.20</td>\n",
              "      <td>19943.96</td>\n",
              "      <td>55812.90</td>\n",
              "    </tr>\n",
              "  </tbody>\n",
              "</table>\n",
              "<p>42989 rows × 22 columns</p>\n",
              "</div>"
            ],
            "text/plain": [
              "      Year Type  Year  Organization Group Code  \\\n",
              "0      Calendar  2015                        2   \n",
              "1      Calendar  2015                        2   \n",
              "2      Calendar  2015                        4   \n",
              "3      Calendar  2015                        4   \n",
              "4      Calendar  2015                        2   \n",
              "...         ...   ...                      ...   \n",
              "42984  Calendar  2015                        2   \n",
              "42985  Calendar  2015                        4   \n",
              "42986  Calendar  2015                        1   \n",
              "42987  Calendar  2015                        6   \n",
              "42988  Calendar  2015                        6   \n",
              "\n",
              "                            Organization Group Department Code  \\\n",
              "0      Public Works, Transportation & Commerce             WTR   \n",
              "1      Public Works, Transportation & Commerce             DPW   \n",
              "2                             Community Health             DPH   \n",
              "3                             Community Health             DPH   \n",
              "4      Public Works, Transportation & Commerce             MTA   \n",
              "...                                        ...             ...   \n",
              "42984  Public Works, Transportation & Commerce             MTA   \n",
              "42985                         Community Health             DPH   \n",
              "42986                        Public Protection             POL   \n",
              "42987         General Administration & Finance             ADM   \n",
              "42988         General Administration & Finance             ADM   \n",
              "\n",
              "                                   Department  Union Code  \\\n",
              "0                        PUC Water Department        21.0   \n",
              "1      General Services Agency - Public Works        12.0   \n",
              "2                               Public Health       790.0   \n",
              "3                               Public Health       351.0   \n",
              "4             Municipal Transportation Agency       790.0   \n",
              "...                                       ...         ...   \n",
              "42984         Municipal Transportation Agency       200.0   \n",
              "42985                           Public Health       791.0   \n",
              "42986                                  Police       911.0   \n",
              "42987    General Services Agency - City Admin        39.0   \n",
              "42988    General Services Agency - City Admin       856.0   \n",
              "\n",
              "                                                  Union Job Family Code  \\\n",
              "0       Prof & Tech Engineers - Miscellaneous, Local 21            2400   \n",
              "1      Carpet, Linoleum and Soft Tile Workers, Local 12            7300   \n",
              "2                      SEIU - Miscellaneous, Local 1021            1600   \n",
              "3       Municipal Executive Association - Miscellaneous            0900   \n",
              "4                      SEIU - Miscellaneous, Local 1021            8200   \n",
              "...                                                 ...             ...   \n",
              "42984                 Transportation Workers, Local 200            9100   \n",
              "42985      SEIU - Staff and Per Diem Nurses, Local 1021            2300   \n",
              "42986                      Police Officers' Association            Q000   \n",
              "42987                    Stationary Engineers, Local 39            7300   \n",
              "42988              Teamsters - Miscellaneous, Local 856            3300   \n",
              "\n",
              "                          Job Family  ... Employee Identifier  Salaries  \\\n",
              "0          Lab, Pharmacy & Med Techs  ...               21538  82146.04   \n",
              "1                   Journeyman Trade  ...                5459  32165.75   \n",
              "2      Payroll, Billing & Accounting  ...               41541  71311.00   \n",
              "3                         Management  ...               26718  28430.25   \n",
              "4          Protection & Apprehension  ...               45810   7948.75   \n",
              "...                              ...  ...                 ...       ...   \n",
              "42984                 Street Transit  ...               13250  80691.52   \n",
              "42985                        Nursing  ...               14845   7559.66   \n",
              "42986                Police Services  ...               40128  48843.58   \n",
              "42987               Journeyman Trade  ...               48315  16319.20   \n",
              "42988                     Park & Zoo  ...               17657  34267.20   \n",
              "\n",
              "       Overtime  Other Salaries  Total Salary  Retirement  Health/Dental  \\\n",
              "0          0.00            0.00      82146.04    16942.21       12340.88   \n",
              "1        973.19          848.96      33987.90        0.00        4587.51   \n",
              "2       5757.98            0.00      77068.98    14697.59       12424.50   \n",
              "3          0.00          763.07      29193.32        0.00        4223.14   \n",
              "4          0.00            0.00       7948.75        0.00        2873.17   \n",
              "...         ...             ...           ...         ...            ...   \n",
              "42984  11865.91         3290.29      95847.72    16909.07       12244.02   \n",
              "42985      0.00            0.00       7559.66      153.74           0.00   \n",
              "42986   2965.85         3316.21      55125.64    11047.55        6212.24   \n",
              "42987      0.00            0.00      16319.20        0.00        2389.32   \n",
              "42988    344.85         1256.89      35868.94     8643.54        8458.22   \n",
              "\n",
              "       Other Benefits  Total Benefits  Total Compensation  \n",
              "0             6337.73        35620.82           117766.86  \n",
              "1             2634.42         7221.93            41209.83  \n",
              "2             6370.06        33492.15           110561.13  \n",
              "3             5208.51         9431.65            38624.97  \n",
              "4              616.24         3489.41            11438.16  \n",
              "...               ...             ...                 ...  \n",
              "42984         7788.00        36941.09           132788.81  \n",
              "42985         2132.23         2285.97             9845.63  \n",
              "42986          910.16        18169.95            73295.59  \n",
              "42987         1264.85         3654.17            19973.37  \n",
              "42988         2842.20        19943.96            55812.90  \n",
              "\n",
              "[42989 rows x 22 columns]"
            ]
          },
          "execution_count": 44,
          "metadata": {},
          "output_type": "execute_result"
        }
      ],
      "source": [
        "sf2015"
      ]
    },
    {
      "cell_type": "code",
      "execution_count": null,
      "id": "206eab7d-1462-4a16-b74c-70f5074366f4",
      "metadata": {
        "id": "206eab7d-1462-4a16-b74c-70f5074366f4",
        "outputId": "d9a2393f-a036-48ea-f0ca-069f3fee4795"
      },
      "outputs": [
        {
          "data": {
            "text/html": [
              "<div>\n",
              "<style scoped>\n",
              "    .dataframe tbody tr th:only-of-type {\n",
              "        vertical-align: middle;\n",
              "    }\n",
              "\n",
              "    .dataframe tbody tr th {\n",
              "        vertical-align: top;\n",
              "    }\n",
              "\n",
              "    .dataframe thead th {\n",
              "        text-align: right;\n",
              "    }\n",
              "</style>\n",
              "<table border=\"1\" class=\"dataframe\">\n",
              "  <thead>\n",
              "    <tr style=\"text-align: right;\">\n",
              "      <th></th>\n",
              "      <th>Year Type</th>\n",
              "      <th>Year</th>\n",
              "      <th>Organization Group Code</th>\n",
              "      <th>Organization Group</th>\n",
              "      <th>Department Code</th>\n",
              "      <th>Department</th>\n",
              "      <th>Union Code</th>\n",
              "      <th>Union</th>\n",
              "      <th>Job Family Code</th>\n",
              "      <th>Job Family</th>\n",
              "      <th>...</th>\n",
              "      <th>Employee Identifier</th>\n",
              "      <th>Salaries</th>\n",
              "      <th>Overtime</th>\n",
              "      <th>Other Salaries</th>\n",
              "      <th>Total Salary</th>\n",
              "      <th>Retirement</th>\n",
              "      <th>Health/Dental</th>\n",
              "      <th>Other Benefits</th>\n",
              "      <th>Total Benefits</th>\n",
              "      <th>Total Compensation</th>\n",
              "    </tr>\n",
              "  </thead>\n",
              "  <tbody>\n",
              "    <tr>\n",
              "      <th>3335</th>\n",
              "      <td>Calendar</td>\n",
              "      <td>2015</td>\n",
              "      <td>6</td>\n",
              "      <td>General Administration &amp; Finance</td>\n",
              "      <td>MYR</td>\n",
              "      <td>Mayor</td>\n",
              "      <td>556.0</td>\n",
              "      <td>Elected Officials</td>\n",
              "      <td>1100</td>\n",
              "      <td>Administrative &amp; Mgmt (Unrep)</td>\n",
              "      <td>...</td>\n",
              "      <td>22433</td>\n",
              "      <td>288963.55</td>\n",
              "      <td>0.0</td>\n",
              "      <td>0.0</td>\n",
              "      <td>288963.55</td>\n",
              "      <td>58117.03</td>\n",
              "      <td>12424.5</td>\n",
              "      <td>20292.95</td>\n",
              "      <td>90834.48</td>\n",
              "      <td>379798.03</td>\n",
              "    </tr>\n",
              "  </tbody>\n",
              "</table>\n",
              "<p>1 rows × 22 columns</p>\n",
              "</div>"
            ],
            "text/plain": [
              "     Year Type  Year  Organization Group Code  \\\n",
              "3335  Calendar  2015                        6   \n",
              "\n",
              "                    Organization Group Department Code Department  Union Code  \\\n",
              "3335  General Administration & Finance             MYR      Mayor       556.0   \n",
              "\n",
              "                  Union Job Family Code                     Job Family  ...  \\\n",
              "3335  Elected Officials            1100  Administrative & Mgmt (Unrep)  ...   \n",
              "\n",
              "     Employee Identifier   Salaries  Overtime  Other Salaries  Total Salary  \\\n",
              "3335               22433  288963.55       0.0             0.0     288963.55   \n",
              "\n",
              "      Retirement  Health/Dental  Other Benefits  Total Benefits  \\\n",
              "3335    58117.03        12424.5        20292.95        90834.48   \n",
              "\n",
              "      Total Compensation  \n",
              "3335           379798.03  \n",
              "\n",
              "[1 rows x 22 columns]"
            ]
          },
          "execution_count": 46,
          "metadata": {},
          "output_type": "execute_result"
        }
      ],
      "source": [
        "sf2015[sf2015['Job'] == 'Mayor']"
      ]
    },
    {
      "cell_type": "code",
      "execution_count": null,
      "id": "33529188-b2b5-408e-b84c-f74da09c72cd",
      "metadata": {
        "id": "33529188-b2b5-408e-b84c-f74da09c72cd",
        "outputId": "1d730f91-f3e4-4c98-d566-d6397e200eba"
      },
      "outputs": [
        {
          "data": {
            "text/html": [
              "<div>\n",
              "<style scoped>\n",
              "    .dataframe tbody tr th:only-of-type {\n",
              "        vertical-align: middle;\n",
              "    }\n",
              "\n",
              "    .dataframe tbody tr th {\n",
              "        vertical-align: top;\n",
              "    }\n",
              "\n",
              "    .dataframe thead th {\n",
              "        text-align: right;\n",
              "    }\n",
              "</style>\n",
              "<table border=\"1\" class=\"dataframe\">\n",
              "  <thead>\n",
              "    <tr style=\"text-align: right;\">\n",
              "      <th></th>\n",
              "      <th>Year Type</th>\n",
              "      <th>Year</th>\n",
              "      <th>Organization Group Code</th>\n",
              "      <th>Organization Group</th>\n",
              "      <th>Department Code</th>\n",
              "      <th>Department</th>\n",
              "      <th>Union Code</th>\n",
              "      <th>Union</th>\n",
              "      <th>Job Family Code</th>\n",
              "      <th>Job Family</th>\n",
              "      <th>...</th>\n",
              "      <th>Employee Identifier</th>\n",
              "      <th>Salaries</th>\n",
              "      <th>Overtime</th>\n",
              "      <th>Other Salaries</th>\n",
              "      <th>Total Salary</th>\n",
              "      <th>Retirement</th>\n",
              "      <th>Health/Dental</th>\n",
              "      <th>Other Benefits</th>\n",
              "      <th>Total Benefits</th>\n",
              "      <th>Total Compensation</th>\n",
              "    </tr>\n",
              "  </thead>\n",
              "  <tbody>\n",
              "    <tr>\n",
              "      <th>27308</th>\n",
              "      <td>Calendar</td>\n",
              "      <td>2015</td>\n",
              "      <td>1</td>\n",
              "      <td>Public Protection</td>\n",
              "      <td>FIR</td>\n",
              "      <td>Fire Department</td>\n",
              "      <td>798.0</td>\n",
              "      <td>Firefighters - Miscellaneous, Local 798</td>\n",
              "      <td>H000</td>\n",
              "      <td>Fire Services</td>\n",
              "      <td>...</td>\n",
              "      <td>43833</td>\n",
              "      <td>0.00</td>\n",
              "      <td>0.00</td>\n",
              "      <td>0.00</td>\n",
              "      <td>0.00</td>\n",
              "      <td>0.00</td>\n",
              "      <td>0.00</td>\n",
              "      <td>-423.76</td>\n",
              "      <td>-423.76</td>\n",
              "      <td>-423.76</td>\n",
              "    </tr>\n",
              "    <tr>\n",
              "      <th>15746</th>\n",
              "      <td>Calendar</td>\n",
              "      <td>2015</td>\n",
              "      <td>4</td>\n",
              "      <td>Community Health</td>\n",
              "      <td>DPH</td>\n",
              "      <td>Public Health</td>\n",
              "      <td>790.0</td>\n",
              "      <td>SEIU - Miscellaneous, Local 1021</td>\n",
              "      <td>9900</td>\n",
              "      <td>Public Service Aide</td>\n",
              "      <td>...</td>\n",
              "      <td>27871</td>\n",
              "      <td>-292.40</td>\n",
              "      <td>0.00</td>\n",
              "      <td>0.00</td>\n",
              "      <td>-292.40</td>\n",
              "      <td>0.00</td>\n",
              "      <td>-95.58</td>\n",
              "      <td>-22.63</td>\n",
              "      <td>-118.21</td>\n",
              "      <td>-410.61</td>\n",
              "    </tr>\n",
              "    <tr>\n",
              "      <th>24576</th>\n",
              "      <td>Calendar</td>\n",
              "      <td>2015</td>\n",
              "      <td>1</td>\n",
              "      <td>Public Protection</td>\n",
              "      <td>JUV</td>\n",
              "      <td>Juvenile Probation</td>\n",
              "      <td>790.0</td>\n",
              "      <td>SEIU - Miscellaneous, Local 1021</td>\n",
              "      <td>8300</td>\n",
              "      <td>Correction &amp; Detention</td>\n",
              "      <td>...</td>\n",
              "      <td>10517</td>\n",
              "      <td>0.00</td>\n",
              "      <td>0.00</td>\n",
              "      <td>0.00</td>\n",
              "      <td>0.00</td>\n",
              "      <td>0.00</td>\n",
              "      <td>0.00</td>\n",
              "      <td>-159.12</td>\n",
              "      <td>-159.12</td>\n",
              "      <td>-159.12</td>\n",
              "    </tr>\n",
              "    <tr>\n",
              "      <th>42982</th>\n",
              "      <td>Calendar</td>\n",
              "      <td>2015</td>\n",
              "      <td>6</td>\n",
              "      <td>General Administration &amp; Finance</td>\n",
              "      <td>CPC</td>\n",
              "      <td>City Planning</td>\n",
              "      <td>21.0</td>\n",
              "      <td>Prof &amp; Tech Engineers - Miscellaneous, Local 21</td>\n",
              "      <td>1000</td>\n",
              "      <td>Information Systems</td>\n",
              "      <td>...</td>\n",
              "      <td>18961</td>\n",
              "      <td>0.00</td>\n",
              "      <td>0.00</td>\n",
              "      <td>0.00</td>\n",
              "      <td>0.00</td>\n",
              "      <td>0.00</td>\n",
              "      <td>0.00</td>\n",
              "      <td>-26.53</td>\n",
              "      <td>-26.53</td>\n",
              "      <td>-26.53</td>\n",
              "    </tr>\n",
              "    <tr>\n",
              "      <th>23310</th>\n",
              "      <td>Calendar</td>\n",
              "      <td>2015</td>\n",
              "      <td>6</td>\n",
              "      <td>General Administration &amp; Finance</td>\n",
              "      <td>CPC</td>\n",
              "      <td>City Planning</td>\n",
              "      <td>21.0</td>\n",
              "      <td>Prof &amp; Tech Engineers - Miscellaneous, Local 21</td>\n",
              "      <td>5200</td>\n",
              "      <td>Professional Engineering</td>\n",
              "      <td>...</td>\n",
              "      <td>19387</td>\n",
              "      <td>0.00</td>\n",
              "      <td>0.00</td>\n",
              "      <td>0.00</td>\n",
              "      <td>0.00</td>\n",
              "      <td>0.00</td>\n",
              "      <td>0.00</td>\n",
              "      <td>-9.51</td>\n",
              "      <td>-9.51</td>\n",
              "      <td>-9.51</td>\n",
              "    </tr>\n",
              "    <tr>\n",
              "      <th>...</th>\n",
              "      <td>...</td>\n",
              "      <td>...</td>\n",
              "      <td>...</td>\n",
              "      <td>...</td>\n",
              "      <td>...</td>\n",
              "      <td>...</td>\n",
              "      <td>...</td>\n",
              "      <td>...</td>\n",
              "      <td>...</td>\n",
              "      <td>...</td>\n",
              "      <td>...</td>\n",
              "      <td>...</td>\n",
              "      <td>...</td>\n",
              "      <td>...</td>\n",
              "      <td>...</td>\n",
              "      <td>...</td>\n",
              "      <td>...</td>\n",
              "      <td>...</td>\n",
              "      <td>...</td>\n",
              "      <td>...</td>\n",
              "      <td>...</td>\n",
              "    </tr>\n",
              "    <tr>\n",
              "      <th>5171</th>\n",
              "      <td>Calendar</td>\n",
              "      <td>2015</td>\n",
              "      <td>4</td>\n",
              "      <td>Community Health</td>\n",
              "      <td>DPH</td>\n",
              "      <td>Public Health</td>\n",
              "      <td>351.0</td>\n",
              "      <td>Municipal Executive Association - Miscellaneous</td>\n",
              "      <td>0900</td>\n",
              "      <td>Management</td>\n",
              "      <td>...</td>\n",
              "      <td>1523</td>\n",
              "      <td>256098.01</td>\n",
              "      <td>0.00</td>\n",
              "      <td>82292.31</td>\n",
              "      <td>338390.32</td>\n",
              "      <td>51977.53</td>\n",
              "      <td>11468.77</td>\n",
              "      <td>20963.32</td>\n",
              "      <td>84409.62</td>\n",
              "      <td>422799.94</td>\n",
              "    </tr>\n",
              "    <tr>\n",
              "      <th>17805</th>\n",
              "      <td>Calendar</td>\n",
              "      <td>2015</td>\n",
              "      <td>2</td>\n",
              "      <td>Public Works, Transportation &amp; Commerce</td>\n",
              "      <td>AIR</td>\n",
              "      <td>Airport Commission</td>\n",
              "      <td>351.0</td>\n",
              "      <td>Municipal Executive Association - Miscellaneous</td>\n",
              "      <td>0900</td>\n",
              "      <td>Management</td>\n",
              "      <td>...</td>\n",
              "      <td>17356</td>\n",
              "      <td>326764.01</td>\n",
              "      <td>0.00</td>\n",
              "      <td>0.00</td>\n",
              "      <td>326764.01</td>\n",
              "      <td>65806.33</td>\n",
              "      <td>12424.50</td>\n",
              "      <td>21691.23</td>\n",
              "      <td>99922.06</td>\n",
              "      <td>426686.07</td>\n",
              "    </tr>\n",
              "    <tr>\n",
              "      <th>499</th>\n",
              "      <td>Calendar</td>\n",
              "      <td>2015</td>\n",
              "      <td>6</td>\n",
              "      <td>General Administration &amp; Finance</td>\n",
              "      <td>ADM</td>\n",
              "      <td>General Services Agency - City Admin</td>\n",
              "      <td>164.0</td>\n",
              "      <td>Physicians and Dentists - Miscellaneous</td>\n",
              "      <td>2500</td>\n",
              "      <td>Med Therapy &amp; Auxiliary</td>\n",
              "      <td>...</td>\n",
              "      <td>13746</td>\n",
              "      <td>279311.03</td>\n",
              "      <td>9046.92</td>\n",
              "      <td>56742.56</td>\n",
              "      <td>345100.51</td>\n",
              "      <td>56211.61</td>\n",
              "      <td>12424.50</td>\n",
              "      <td>13482.66</td>\n",
              "      <td>82118.77</td>\n",
              "      <td>427219.28</td>\n",
              "    </tr>\n",
              "    <tr>\n",
              "      <th>13194</th>\n",
              "      <td>Calendar</td>\n",
              "      <td>2015</td>\n",
              "      <td>6</td>\n",
              "      <td>General Administration &amp; Finance</td>\n",
              "      <td>ADM</td>\n",
              "      <td>General Services Agency - City Admin</td>\n",
              "      <td>164.0</td>\n",
              "      <td>Physicians and Dentists - Miscellaneous</td>\n",
              "      <td>2500</td>\n",
              "      <td>Med Therapy &amp; Auxiliary</td>\n",
              "      <td>...</td>\n",
              "      <td>1016</td>\n",
              "      <td>279311.10</td>\n",
              "      <td>3829.36</td>\n",
              "      <td>114433.58</td>\n",
              "      <td>397574.04</td>\n",
              "      <td>56211.64</td>\n",
              "      <td>12424.50</td>\n",
              "      <td>14299.10</td>\n",
              "      <td>82935.24</td>\n",
              "      <td>480509.28</td>\n",
              "    </tr>\n",
              "    <tr>\n",
              "      <th>19177</th>\n",
              "      <td>Calendar</td>\n",
              "      <td>2015</td>\n",
              "      <td>6</td>\n",
              "      <td>General Administration &amp; Finance</td>\n",
              "      <td>RET</td>\n",
              "      <td>Retirement System</td>\n",
              "      <td>351.0</td>\n",
              "      <td>Municipal Executive Association - Miscellaneous</td>\n",
              "      <td>1100</td>\n",
              "      <td>Administrative &amp; Mgmt (Unrep)</td>\n",
              "      <td>...</td>\n",
              "      <td>46881</td>\n",
              "      <td>507831.60</td>\n",
              "      <td>0.00</td>\n",
              "      <td>0.00</td>\n",
              "      <td>507831.60</td>\n",
              "      <td>105052.98</td>\n",
              "      <td>12424.50</td>\n",
              "      <td>23566.16</td>\n",
              "      <td>141043.64</td>\n",
              "      <td>648875.24</td>\n",
              "    </tr>\n",
              "  </tbody>\n",
              "</table>\n",
              "<p>42989 rows × 22 columns</p>\n",
              "</div>"
            ],
            "text/plain": [
              "      Year Type  Year  Organization Group Code  \\\n",
              "27308  Calendar  2015                        1   \n",
              "15746  Calendar  2015                        4   \n",
              "24576  Calendar  2015                        1   \n",
              "42982  Calendar  2015                        6   \n",
              "23310  Calendar  2015                        6   \n",
              "...         ...   ...                      ...   \n",
              "5171   Calendar  2015                        4   \n",
              "17805  Calendar  2015                        2   \n",
              "499    Calendar  2015                        6   \n",
              "13194  Calendar  2015                        6   \n",
              "19177  Calendar  2015                        6   \n",
              "\n",
              "                            Organization Group Department Code  \\\n",
              "27308                        Public Protection             FIR   \n",
              "15746                         Community Health             DPH   \n",
              "24576                        Public Protection             JUV   \n",
              "42982         General Administration & Finance             CPC   \n",
              "23310         General Administration & Finance             CPC   \n",
              "...                                        ...             ...   \n",
              "5171                          Community Health             DPH   \n",
              "17805  Public Works, Transportation & Commerce             AIR   \n",
              "499           General Administration & Finance             ADM   \n",
              "13194         General Administration & Finance             ADM   \n",
              "19177         General Administration & Finance             RET   \n",
              "\n",
              "                                 Department  Union Code  \\\n",
              "27308                       Fire Department       798.0   \n",
              "15746                         Public Health       790.0   \n",
              "24576                    Juvenile Probation       790.0   \n",
              "42982                         City Planning        21.0   \n",
              "23310                         City Planning        21.0   \n",
              "...                                     ...         ...   \n",
              "5171                          Public Health       351.0   \n",
              "17805                    Airport Commission       351.0   \n",
              "499    General Services Agency - City Admin       164.0   \n",
              "13194  General Services Agency - City Admin       164.0   \n",
              "19177                     Retirement System       351.0   \n",
              "\n",
              "                                                 Union Job Family Code  \\\n",
              "27308          Firefighters - Miscellaneous, Local 798            H000   \n",
              "15746                 SEIU - Miscellaneous, Local 1021            9900   \n",
              "24576                 SEIU - Miscellaneous, Local 1021            8300   \n",
              "42982  Prof & Tech Engineers - Miscellaneous, Local 21            1000   \n",
              "23310  Prof & Tech Engineers - Miscellaneous, Local 21            5200   \n",
              "...                                                ...             ...   \n",
              "5171   Municipal Executive Association - Miscellaneous            0900   \n",
              "17805  Municipal Executive Association - Miscellaneous            0900   \n",
              "499            Physicians and Dentists - Miscellaneous            2500   \n",
              "13194          Physicians and Dentists - Miscellaneous            2500   \n",
              "19177  Municipal Executive Association - Miscellaneous            1100   \n",
              "\n",
              "                          Job Family  ... Employee Identifier   Salaries  \\\n",
              "27308                  Fire Services  ...               43833       0.00   \n",
              "15746            Public Service Aide  ...               27871    -292.40   \n",
              "24576         Correction & Detention  ...               10517       0.00   \n",
              "42982            Information Systems  ...               18961       0.00   \n",
              "23310       Professional Engineering  ...               19387       0.00   \n",
              "...                              ...  ...                 ...        ...   \n",
              "5171                      Management  ...                1523  256098.01   \n",
              "17805                     Management  ...               17356  326764.01   \n",
              "499          Med Therapy & Auxiliary  ...               13746  279311.03   \n",
              "13194        Med Therapy & Auxiliary  ...                1016  279311.10   \n",
              "19177  Administrative & Mgmt (Unrep)  ...               46881  507831.60   \n",
              "\n",
              "       Overtime  Other Salaries  Total Salary  Retirement  Health/Dental  \\\n",
              "27308      0.00            0.00          0.00        0.00           0.00   \n",
              "15746      0.00            0.00       -292.40        0.00         -95.58   \n",
              "24576      0.00            0.00          0.00        0.00           0.00   \n",
              "42982      0.00            0.00          0.00        0.00           0.00   \n",
              "23310      0.00            0.00          0.00        0.00           0.00   \n",
              "...         ...             ...           ...         ...            ...   \n",
              "5171       0.00        82292.31     338390.32    51977.53       11468.77   \n",
              "17805      0.00            0.00     326764.01    65806.33       12424.50   \n",
              "499     9046.92        56742.56     345100.51    56211.61       12424.50   \n",
              "13194   3829.36       114433.58     397574.04    56211.64       12424.50   \n",
              "19177      0.00            0.00     507831.60   105052.98       12424.50   \n",
              "\n",
              "       Other Benefits  Total Benefits  Total Compensation  \n",
              "27308         -423.76         -423.76             -423.76  \n",
              "15746          -22.63         -118.21             -410.61  \n",
              "24576         -159.12         -159.12             -159.12  \n",
              "42982          -26.53          -26.53              -26.53  \n",
              "23310           -9.51           -9.51               -9.51  \n",
              "...               ...             ...                 ...  \n",
              "5171         20963.32        84409.62           422799.94  \n",
              "17805        21691.23        99922.06           426686.07  \n",
              "499          13482.66        82118.77           427219.28  \n",
              "13194        14299.10        82935.24           480509.28  \n",
              "19177        23566.16       141043.64           648875.24  \n",
              "\n",
              "[42989 rows x 22 columns]"
            ]
          },
          "execution_count": 48,
          "metadata": {},
          "output_type": "execute_result"
        }
      ],
      "source": [
        "sf2015.sort_values(by=['Total Compensation'])"
      ]
    },
    {
      "cell_type": "code",
      "execution_count": null,
      "id": "d4165ab1-bace-44ed-860a-cfa699ea1c89",
      "metadata": {
        "id": "d4165ab1-bace-44ed-860a-cfa699ea1c89"
      },
      "outputs": [],
      "source": [
        "sf2015 = sf2015[sf2015['Salaries'] > 10000]"
      ]
    },
    {
      "cell_type": "code",
      "execution_count": null,
      "id": "5e2aa76c-f326-429f-8392-c22367fc1a75",
      "metadata": {
        "id": "5e2aa76c-f326-429f-8392-c22367fc1a75",
        "outputId": "08f27741-82b2-4c03-fd67-43f7ede572ee"
      },
      "outputs": [
        {
          "data": {
            "text/plain": [
              "36569"
            ]
          },
          "execution_count": 52,
          "metadata": {},
          "output_type": "execute_result"
        }
      ],
      "source": [
        "len(sf2015)"
      ]
    },
    {
      "cell_type": "code",
      "execution_count": null,
      "id": "53aee43b-61ac-4a80-81e2-7f56c97fd6c6",
      "metadata": {
        "id": "53aee43b-61ac-4a80-81e2-7f56c97fd6c6",
        "outputId": "7346415b-8ba0-48de-9fa0-afa85d1be9ec"
      },
      "outputs": [
        {
          "data": {
            "text/html": [
              "<div>\n",
              "<style scoped>\n",
              "    .dataframe tbody tr th:only-of-type {\n",
              "        vertical-align: middle;\n",
              "    }\n",
              "\n",
              "    .dataframe tbody tr th {\n",
              "        vertical-align: top;\n",
              "    }\n",
              "\n",
              "    .dataframe thead th {\n",
              "        text-align: right;\n",
              "    }\n",
              "</style>\n",
              "<table border=\"1\" class=\"dataframe\">\n",
              "  <thead>\n",
              "    <tr style=\"text-align: right;\">\n",
              "      <th></th>\n",
              "      <th>Year Type</th>\n",
              "      <th>Year</th>\n",
              "      <th>Organization Group Code</th>\n",
              "      <th>Organization Group</th>\n",
              "      <th>Department Code</th>\n",
              "      <th>Department</th>\n",
              "      <th>Union Code</th>\n",
              "      <th>Union</th>\n",
              "      <th>Job Family Code</th>\n",
              "      <th>Job Family</th>\n",
              "      <th>...</th>\n",
              "      <th>Employee Identifier</th>\n",
              "      <th>Salaries</th>\n",
              "      <th>Overtime</th>\n",
              "      <th>Other Salaries</th>\n",
              "      <th>Total Salary</th>\n",
              "      <th>Retirement</th>\n",
              "      <th>Health/Dental</th>\n",
              "      <th>Other Benefits</th>\n",
              "      <th>Total Benefits</th>\n",
              "      <th>Total Compensation</th>\n",
              "    </tr>\n",
              "  </thead>\n",
              "  <tbody>\n",
              "    <tr>\n",
              "      <th>19177</th>\n",
              "      <td>Calendar</td>\n",
              "      <td>2015</td>\n",
              "      <td>6</td>\n",
              "      <td>General Administration &amp; Finance</td>\n",
              "      <td>RET</td>\n",
              "      <td>Retirement System</td>\n",
              "      <td>351.0</td>\n",
              "      <td>Municipal Executive Association - Miscellaneous</td>\n",
              "      <td>1100</td>\n",
              "      <td>Administrative &amp; Mgmt (Unrep)</td>\n",
              "      <td>...</td>\n",
              "      <td>46881</td>\n",
              "      <td>507831.6</td>\n",
              "      <td>0.00</td>\n",
              "      <td>0.00</td>\n",
              "      <td>507831.60</td>\n",
              "      <td>105052.98</td>\n",
              "      <td>12424.5</td>\n",
              "      <td>23566.16</td>\n",
              "      <td>141043.64</td>\n",
              "      <td>648875.24</td>\n",
              "    </tr>\n",
              "    <tr>\n",
              "      <th>13194</th>\n",
              "      <td>Calendar</td>\n",
              "      <td>2015</td>\n",
              "      <td>6</td>\n",
              "      <td>General Administration &amp; Finance</td>\n",
              "      <td>ADM</td>\n",
              "      <td>General Services Agency - City Admin</td>\n",
              "      <td>164.0</td>\n",
              "      <td>Physicians and Dentists - Miscellaneous</td>\n",
              "      <td>2500</td>\n",
              "      <td>Med Therapy &amp; Auxiliary</td>\n",
              "      <td>...</td>\n",
              "      <td>1016</td>\n",
              "      <td>279311.1</td>\n",
              "      <td>3829.36</td>\n",
              "      <td>114433.58</td>\n",
              "      <td>397574.04</td>\n",
              "      <td>56211.64</td>\n",
              "      <td>12424.5</td>\n",
              "      <td>14299.10</td>\n",
              "      <td>82935.24</td>\n",
              "      <td>480509.28</td>\n",
              "    </tr>\n",
              "  </tbody>\n",
              "</table>\n",
              "<p>2 rows × 22 columns</p>\n",
              "</div>"
            ],
            "text/plain": [
              "      Year Type  Year  Organization Group Code  \\\n",
              "19177  Calendar  2015                        6   \n",
              "13194  Calendar  2015                        6   \n",
              "\n",
              "                     Organization Group Department Code  \\\n",
              "19177  General Administration & Finance             RET   \n",
              "13194  General Administration & Finance             ADM   \n",
              "\n",
              "                                 Department  Union Code  \\\n",
              "19177                     Retirement System       351.0   \n",
              "13194  General Services Agency - City Admin       164.0   \n",
              "\n",
              "                                                 Union Job Family Code  \\\n",
              "19177  Municipal Executive Association - Miscellaneous            1100   \n",
              "13194          Physicians and Dentists - Miscellaneous            2500   \n",
              "\n",
              "                          Job Family  ... Employee Identifier  Salaries  \\\n",
              "19177  Administrative & Mgmt (Unrep)  ...               46881  507831.6   \n",
              "13194        Med Therapy & Auxiliary  ...                1016  279311.1   \n",
              "\n",
              "       Overtime  Other Salaries  Total Salary  Retirement  Health/Dental  \\\n",
              "19177      0.00            0.00     507831.60   105052.98        12424.5   \n",
              "13194   3829.36       114433.58     397574.04    56211.64        12424.5   \n",
              "\n",
              "       Other Benefits  Total Benefits  Total Compensation  \n",
              "19177        23566.16       141043.64           648875.24  \n",
              "13194        14299.10        82935.24           480509.28  \n",
              "\n",
              "[2 rows x 22 columns]"
            ]
          },
          "execution_count": 80,
          "metadata": {},
          "output_type": "execute_result"
        }
      ],
      "source": [
        "sf2015.sort_values(by=['Total Compensation'], ascending=False).head(2)"
      ]
    },
    {
      "cell_type": "code",
      "execution_count": null,
      "id": "ddbe69aa-803b-4528-8d57-60275c9d4ef3",
      "metadata": {
        "id": "ddbe69aa-803b-4528-8d57-60275c9d4ef3",
        "outputId": "786badaf-ce50-493b-eafd-f61261d95b8f"
      },
      "outputs": [
        {
          "data": {
            "text/plain": [
              "110305.79"
            ]
          },
          "execution_count": 123,
          "metadata": {},
          "output_type": "execute_result"
        }
      ],
      "source": [
        "pop_median = np.percentile(sf2015['Total Compensation'], 50)\n",
        "pop_median"
      ]
    },
    {
      "cell_type": "code",
      "execution_count": null,
      "id": "e8e2b0bb-9221-4cdc-916f-f6ac0be6fee1",
      "metadata": {
        "id": "e8e2b0bb-9221-4cdc-916f-f6ac0be6fee1",
        "outputId": "10971bf4-5439-46f1-f771-ab73812f680b"
      },
      "outputs": [
        {
          "name": "stderr",
          "output_type": "stream",
          "text": [
            "C:\\Users\\bogel\\AppData\\Local\\Temp\\ipykernel_8180\\1630019851.py:15: UserWarning: set_ticklabels() should only be used with a fixed number of ticks, i.e. after set_ticks() or using a FixedLocator.\n",
            "  ax.set_yticklabels(['{:g}'.format(x * 100) for x in y_vals])\n"
          ]
        },
        {
          "data": {
            "image/png": "[encoded data removed]",
            "text/plain": [
              "<Figure size 1000x500 with 1 Axes>"
            ]
          },
          "metadata": {},
          "output_type": "display_data"
        }
      ],
      "source": [
        "our_sample = sf2015.sample(500, replace=False)\n",
        "\n",
        "unit = ''\n",
        "\n",
        "fig, ax = plt.subplots(figsize=(10,5))\n",
        "\n",
        "ax.hist(our_sample['Total Compensation'], bins = sf_bins, density=True, color='blue', alpha=0.8, ec='white')\n",
        "\n",
        "y_vals = ax.get_yticks()\n",
        "\n",
        "y_label = 'Percent per ' + (unit if unit else 'unit')\n",
        "\n",
        "x_label = 'Total Compensation'\n",
        "\n",
        "ax.set_yticklabels(['{:g}'.format(x * 100) for x in y_vals])\n",
        "\n",
        "plt.ylabel(y_label)\n",
        "\n",
        "plt.xlabel(x_label)\n",
        "\n",
        "plt.xticks(rotation=90)\n",
        "\n",
        "plt.title('');\n",
        "\n",
        "plt.show()"
      ]
    },
    {
      "cell_type": "code",
      "execution_count": null,
      "id": "5eb2ab64-1c30-4f8a-880b-9885e81d0365",
      "metadata": {
        "id": "5eb2ab64-1c30-4f8a-880b-9885e81d0365",
        "outputId": "398028ba-dc6e-4c57-d9c1-cbfa401e95c3"
      },
      "outputs": [
        {
          "data": {
            "text/plain": [
              "111796.83499999999"
            ]
          },
          "execution_count": 86,
          "metadata": {},
          "output_type": "execute_result"
        }
      ],
      "source": [
        "est_median = np.percentile(our_sample['Total Compensation'], 50)\n",
        "est_median"
      ]
    },
    {
      "cell_type": "code",
      "execution_count": null,
      "id": "cb877082-8792-459a-80fd-a54239ef661d",
      "metadata": {
        "id": "cb877082-8792-459a-80fd-a54239ef661d",
        "outputId": "faaa8b17-ce87-4a91-cacd-e9756dba6e37"
      },
      "outputs": [
        {
          "data": {
            "text/html": [
              "<div>\n",
              "<style scoped>\n",
              "    .dataframe tbody tr th:only-of-type {\n",
              "        vertical-align: middle;\n",
              "    }\n",
              "\n",
              "    .dataframe tbody tr th {\n",
              "        vertical-align: top;\n",
              "    }\n",
              "\n",
              "    .dataframe thead th {\n",
              "        text-align: right;\n",
              "    }\n",
              "</style>\n",
              "<table border=\"1\" class=\"dataframe\">\n",
              "  <thead>\n",
              "    <tr style=\"text-align: right;\">\n",
              "      <th></th>\n",
              "      <th>Year Type</th>\n",
              "      <th>Year</th>\n",
              "      <th>Organization Group Code</th>\n",
              "      <th>Organization Group</th>\n",
              "      <th>Department Code</th>\n",
              "      <th>Department</th>\n",
              "      <th>Union Code</th>\n",
              "      <th>Union</th>\n",
              "      <th>Job Family Code</th>\n",
              "      <th>Job Family</th>\n",
              "      <th>...</th>\n",
              "      <th>Employee Identifier</th>\n",
              "      <th>Salaries</th>\n",
              "      <th>Overtime</th>\n",
              "      <th>Other Salaries</th>\n",
              "      <th>Total Salary</th>\n",
              "      <th>Retirement</th>\n",
              "      <th>Health/Dental</th>\n",
              "      <th>Other Benefits</th>\n",
              "      <th>Total Benefits</th>\n",
              "      <th>Total Compensation</th>\n",
              "    </tr>\n",
              "  </thead>\n",
              "  <tbody>\n",
              "    <tr>\n",
              "      <th>21047</th>\n",
              "      <td>Calendar</td>\n",
              "      <td>2015</td>\n",
              "      <td>2</td>\n",
              "      <td>Public Works, Transportation &amp; Commerce</td>\n",
              "      <td>CWP</td>\n",
              "      <td>PUC Wastewater Enterprise</td>\n",
              "      <td>39.0</td>\n",
              "      <td>Stationary Engineers, Local 39</td>\n",
              "      <td>7300</td>\n",
              "      <td>Journeyman Trade</td>\n",
              "      <td>...</td>\n",
              "      <td>49668</td>\n",
              "      <td>106090.09</td>\n",
              "      <td>3080.86</td>\n",
              "      <td>0.00</td>\n",
              "      <td>109170.95</td>\n",
              "      <td>21865.57</td>\n",
              "      <td>12424.50</td>\n",
              "      <td>8930.11</td>\n",
              "      <td>43220.18</td>\n",
              "      <td>152391.13</td>\n",
              "    </tr>\n",
              "    <tr>\n",
              "      <th>20374</th>\n",
              "      <td>Calendar</td>\n",
              "      <td>2015</td>\n",
              "      <td>1</td>\n",
              "      <td>Public Protection</td>\n",
              "      <td>FIR</td>\n",
              "      <td>Fire Department</td>\n",
              "      <td>798.0</td>\n",
              "      <td>Firefighters - Miscellaneous, Local 798</td>\n",
              "      <td>H000</td>\n",
              "      <td>Fire Services</td>\n",
              "      <td>...</td>\n",
              "      <td>37516</td>\n",
              "      <td>126427.43</td>\n",
              "      <td>19227.18</td>\n",
              "      <td>7585.65</td>\n",
              "      <td>153240.26</td>\n",
              "      <td>26803.50</td>\n",
              "      <td>10513.04</td>\n",
              "      <td>2548.86</td>\n",
              "      <td>39865.40</td>\n",
              "      <td>193105.66</td>\n",
              "    </tr>\n",
              "    <tr>\n",
              "      <th>5309</th>\n",
              "      <td>Calendar</td>\n",
              "      <td>2015</td>\n",
              "      <td>1</td>\n",
              "      <td>Public Protection</td>\n",
              "      <td>SHF</td>\n",
              "      <td>Sheriff</td>\n",
              "      <td>498.0</td>\n",
              "      <td>Deputy Sheriffs' Association</td>\n",
              "      <td>8300</td>\n",
              "      <td>Correction &amp; Detention</td>\n",
              "      <td>...</td>\n",
              "      <td>17080</td>\n",
              "      <td>97755.08</td>\n",
              "      <td>11237.84</td>\n",
              "      <td>6085.85</td>\n",
              "      <td>115078.77</td>\n",
              "      <td>25233.00</td>\n",
              "      <td>12424.50</td>\n",
              "      <td>1957.55</td>\n",
              "      <td>39615.05</td>\n",
              "      <td>154693.82</td>\n",
              "    </tr>\n",
              "    <tr>\n",
              "      <th>4759</th>\n",
              "      <td>Calendar</td>\n",
              "      <td>2015</td>\n",
              "      <td>4</td>\n",
              "      <td>Community Health</td>\n",
              "      <td>DPH</td>\n",
              "      <td>Public Health</td>\n",
              "      <td>250.0</td>\n",
              "      <td>SEIU - Health Workers, Local 1021</td>\n",
              "      <td>2300</td>\n",
              "      <td>Nursing</td>\n",
              "      <td>...</td>\n",
              "      <td>5314</td>\n",
              "      <td>52543.42</td>\n",
              "      <td>160.13</td>\n",
              "      <td>2756.20</td>\n",
              "      <td>55459.75</td>\n",
              "      <td>12615.61</td>\n",
              "      <td>12085.46</td>\n",
              "      <td>4436.58</td>\n",
              "      <td>29137.65</td>\n",
              "      <td>84597.40</td>\n",
              "    </tr>\n",
              "    <tr>\n",
              "      <th>15335</th>\n",
              "      <td>Calendar</td>\n",
              "      <td>2015</td>\n",
              "      <td>6</td>\n",
              "      <td>General Administration &amp; Finance</td>\n",
              "      <td>MYR</td>\n",
              "      <td>Mayor</td>\n",
              "      <td>790.0</td>\n",
              "      <td>SEIU - Miscellaneous, Local 1021</td>\n",
              "      <td>9700</td>\n",
              "      <td>Community Development</td>\n",
              "      <td>...</td>\n",
              "      <td>8378</td>\n",
              "      <td>33306.60</td>\n",
              "      <td>0.00</td>\n",
              "      <td>0.00</td>\n",
              "      <td>33306.60</td>\n",
              "      <td>6735.16</td>\n",
              "      <td>7598.07</td>\n",
              "      <td>2667.30</td>\n",
              "      <td>17000.53</td>\n",
              "      <td>50307.13</td>\n",
              "    </tr>\n",
              "    <tr>\n",
              "      <th>...</th>\n",
              "      <td>...</td>\n",
              "      <td>...</td>\n",
              "      <td>...</td>\n",
              "      <td>...</td>\n",
              "      <td>...</td>\n",
              "      <td>...</td>\n",
              "      <td>...</td>\n",
              "      <td>...</td>\n",
              "      <td>...</td>\n",
              "      <td>...</td>\n",
              "      <td>...</td>\n",
              "      <td>...</td>\n",
              "      <td>...</td>\n",
              "      <td>...</td>\n",
              "      <td>...</td>\n",
              "      <td>...</td>\n",
              "      <td>...</td>\n",
              "      <td>...</td>\n",
              "      <td>...</td>\n",
              "      <td>...</td>\n",
              "      <td>...</td>\n",
              "    </tr>\n",
              "    <tr>\n",
              "      <th>11816</th>\n",
              "      <td>Calendar</td>\n",
              "      <td>2015</td>\n",
              "      <td>2</td>\n",
              "      <td>Public Works, Transportation &amp; Commerce</td>\n",
              "      <td>PUC</td>\n",
              "      <td>PUC Public Utilities Commission</td>\n",
              "      <td>790.0</td>\n",
              "      <td>SEIU - Miscellaneous, Local 1021</td>\n",
              "      <td>1400</td>\n",
              "      <td>Clerical, Secretarial &amp; Steno</td>\n",
              "      <td>...</td>\n",
              "      <td>43634</td>\n",
              "      <td>76727.99</td>\n",
              "      <td>1778.13</td>\n",
              "      <td>0.00</td>\n",
              "      <td>78506.12</td>\n",
              "      <td>15813.99</td>\n",
              "      <td>12424.50</td>\n",
              "      <td>6367.73</td>\n",
              "      <td>34606.22</td>\n",
              "      <td>113112.34</td>\n",
              "    </tr>\n",
              "    <tr>\n",
              "      <th>29112</th>\n",
              "      <td>Calendar</td>\n",
              "      <td>2015</td>\n",
              "      <td>1</td>\n",
              "      <td>Public Protection</td>\n",
              "      <td>SHF</td>\n",
              "      <td>Sheriff</td>\n",
              "      <td>790.0</td>\n",
              "      <td>SEIU - Miscellaneous, Local 1021</td>\n",
              "      <td>8300</td>\n",
              "      <td>Correction &amp; Detention</td>\n",
              "      <td>...</td>\n",
              "      <td>6788</td>\n",
              "      <td>41074.47</td>\n",
              "      <td>1710.18</td>\n",
              "      <td>500.00</td>\n",
              "      <td>43284.65</td>\n",
              "      <td>9951.33</td>\n",
              "      <td>12240.11</td>\n",
              "      <td>3262.33</td>\n",
              "      <td>25453.77</td>\n",
              "      <td>68738.42</td>\n",
              "    </tr>\n",
              "    <tr>\n",
              "      <th>41937</th>\n",
              "      <td>Calendar</td>\n",
              "      <td>2015</td>\n",
              "      <td>3</td>\n",
              "      <td>Human Welfare &amp; Neighborhood Development</td>\n",
              "      <td>DSS</td>\n",
              "      <td>Human Services</td>\n",
              "      <td>1.0</td>\n",
              "      <td>Miscellaneous Unrepresented Employees</td>\n",
              "      <td>9900</td>\n",
              "      <td>Public Service Aide</td>\n",
              "      <td>...</td>\n",
              "      <td>47570</td>\n",
              "      <td>20258.75</td>\n",
              "      <td>0.00</td>\n",
              "      <td>906.70</td>\n",
              "      <td>21165.45</td>\n",
              "      <td>1771.07</td>\n",
              "      <td>8758.68</td>\n",
              "      <td>1714.73</td>\n",
              "      <td>12244.48</td>\n",
              "      <td>33409.93</td>\n",
              "    </tr>\n",
              "    <tr>\n",
              "      <th>33459</th>\n",
              "      <td>Calendar</td>\n",
              "      <td>2015</td>\n",
              "      <td>6</td>\n",
              "      <td>General Administration &amp; Finance</td>\n",
              "      <td>TTX</td>\n",
              "      <td>Treasurer/Tax Collector</td>\n",
              "      <td>790.0</td>\n",
              "      <td>SEIU - Miscellaneous, Local 1021</td>\n",
              "      <td>4300</td>\n",
              "      <td>Revenue</td>\n",
              "      <td>...</td>\n",
              "      <td>21820</td>\n",
              "      <td>75028.01</td>\n",
              "      <td>0.00</td>\n",
              "      <td>951.51</td>\n",
              "      <td>75979.52</td>\n",
              "      <td>15665.49</td>\n",
              "      <td>12424.50</td>\n",
              "      <td>6083.52</td>\n",
              "      <td>34173.51</td>\n",
              "      <td>110153.03</td>\n",
              "    </tr>\n",
              "    <tr>\n",
              "      <th>20129</th>\n",
              "      <td>Calendar</td>\n",
              "      <td>2015</td>\n",
              "      <td>1</td>\n",
              "      <td>Public Protection</td>\n",
              "      <td>POL</td>\n",
              "      <td>Police</td>\n",
              "      <td>911.0</td>\n",
              "      <td>Police Officers' Association</td>\n",
              "      <td>Q000</td>\n",
              "      <td>Police Services</td>\n",
              "      <td>...</td>\n",
              "      <td>29295</td>\n",
              "      <td>107801.46</td>\n",
              "      <td>3408.31</td>\n",
              "      <td>11159.97</td>\n",
              "      <td>122369.74</td>\n",
              "      <td>22348.66</td>\n",
              "      <td>12424.50</td>\n",
              "      <td>2030.98</td>\n",
              "      <td>36804.14</td>\n",
              "      <td>159173.88</td>\n",
              "    </tr>\n",
              "  </tbody>\n",
              "</table>\n",
              "<p>500 rows × 22 columns</p>\n",
              "</div>"
            ],
            "text/plain": [
              "      Year Type  Year  Organization Group Code  \\\n",
              "21047  Calendar  2015                        2   \n",
              "20374  Calendar  2015                        1   \n",
              "5309   Calendar  2015                        1   \n",
              "4759   Calendar  2015                        4   \n",
              "15335  Calendar  2015                        6   \n",
              "...         ...   ...                      ...   \n",
              "11816  Calendar  2015                        2   \n",
              "29112  Calendar  2015                        1   \n",
              "41937  Calendar  2015                        3   \n",
              "33459  Calendar  2015                        6   \n",
              "20129  Calendar  2015                        1   \n",
              "\n",
              "                             Organization Group Department Code  \\\n",
              "21047   Public Works, Transportation & Commerce             CWP   \n",
              "20374                         Public Protection             FIR   \n",
              "5309                          Public Protection             SHF   \n",
              "4759                           Community Health             DPH   \n",
              "15335          General Administration & Finance             MYR   \n",
              "...                                         ...             ...   \n",
              "11816   Public Works, Transportation & Commerce             PUC   \n",
              "29112                         Public Protection             SHF   \n",
              "41937  Human Welfare & Neighborhood Development             DSS   \n",
              "33459          General Administration & Finance             TTX   \n",
              "20129                         Public Protection             POL   \n",
              "\n",
              "                            Department  Union Code  \\\n",
              "21047        PUC Wastewater Enterprise        39.0   \n",
              "20374                  Fire Department       798.0   \n",
              "5309                           Sheriff       498.0   \n",
              "4759                     Public Health       250.0   \n",
              "15335                            Mayor       790.0   \n",
              "...                                ...         ...   \n",
              "11816  PUC Public Utilities Commission       790.0   \n",
              "29112                          Sheriff       790.0   \n",
              "41937                   Human Services         1.0   \n",
              "33459          Treasurer/Tax Collector       790.0   \n",
              "20129                           Police       911.0   \n",
              "\n",
              "                                         Union Job Family Code  \\\n",
              "21047           Stationary Engineers, Local 39            7300   \n",
              "20374  Firefighters - Miscellaneous, Local 798            H000   \n",
              "5309              Deputy Sheriffs' Association            8300   \n",
              "4759         SEIU - Health Workers, Local 1021            2300   \n",
              "15335         SEIU - Miscellaneous, Local 1021            9700   \n",
              "...                                        ...             ...   \n",
              "11816         SEIU - Miscellaneous, Local 1021            1400   \n",
              "29112         SEIU - Miscellaneous, Local 1021            8300   \n",
              "41937    Miscellaneous Unrepresented Employees            9900   \n",
              "33459         SEIU - Miscellaneous, Local 1021            4300   \n",
              "20129             Police Officers' Association            Q000   \n",
              "\n",
              "                          Job Family  ... Employee Identifier   Salaries  \\\n",
              "21047               Journeyman Trade  ...               49668  106090.09   \n",
              "20374                  Fire Services  ...               37516  126427.43   \n",
              "5309          Correction & Detention  ...               17080   97755.08   \n",
              "4759                         Nursing  ...                5314   52543.42   \n",
              "15335          Community Development  ...                8378   33306.60   \n",
              "...                              ...  ...                 ...        ...   \n",
              "11816  Clerical, Secretarial & Steno  ...               43634   76727.99   \n",
              "29112         Correction & Detention  ...                6788   41074.47   \n",
              "41937            Public Service Aide  ...               47570   20258.75   \n",
              "33459                        Revenue  ...               21820   75028.01   \n",
              "20129                Police Services  ...               29295  107801.46   \n",
              "\n",
              "       Overtime  Other Salaries  Total Salary  Retirement  Health/Dental  \\\n",
              "21047   3080.86            0.00     109170.95    21865.57       12424.50   \n",
              "20374  19227.18         7585.65     153240.26    26803.50       10513.04   \n",
              "5309   11237.84         6085.85     115078.77    25233.00       12424.50   \n",
              "4759     160.13         2756.20      55459.75    12615.61       12085.46   \n",
              "15335      0.00            0.00      33306.60     6735.16        7598.07   \n",
              "...         ...             ...           ...         ...            ...   \n",
              "11816   1778.13            0.00      78506.12    15813.99       12424.50   \n",
              "29112   1710.18          500.00      43284.65     9951.33       12240.11   \n",
              "41937      0.00          906.70      21165.45     1771.07        8758.68   \n",
              "33459      0.00          951.51      75979.52    15665.49       12424.50   \n",
              "20129   3408.31        11159.97     122369.74    22348.66       12424.50   \n",
              "\n",
              "       Other Benefits  Total Benefits  Total Compensation  \n",
              "21047         8930.11        43220.18           152391.13  \n",
              "20374         2548.86        39865.40           193105.66  \n",
              "5309          1957.55        39615.05           154693.82  \n",
              "4759          4436.58        29137.65            84597.40  \n",
              "15335         2667.30        17000.53            50307.13  \n",
              "...               ...             ...                 ...  \n",
              "11816         6367.73        34606.22           113112.34  \n",
              "29112         3262.33        25453.77            68738.42  \n",
              "41937         1714.73        12244.48            33409.93  \n",
              "33459         6083.52        34173.51           110153.03  \n",
              "20129         2030.98        36804.14           159173.88  \n",
              "\n",
              "[500 rows x 22 columns]"
            ]
          },
          "execution_count": 88,
          "metadata": {},
          "output_type": "execute_result"
        }
      ],
      "source": [
        "resample_1 = our_sample.sample(len(our_sample), replace=True)\n",
        "resample_1"
      ]
    },
    {
      "cell_type": "code",
      "execution_count": null,
      "id": "6bb3c9d1-654d-4a8f-b2eb-8e1818459dc3",
      "metadata": {
        "id": "6bb3c9d1-654d-4a8f-b2eb-8e1818459dc3",
        "outputId": "aaab4e0d-579a-43d0-a54f-be146aa42e97"
      },
      "outputs": [
        {
          "name": "stderr",
          "output_type": "stream",
          "text": [
            "C:\\Users\\bogel\\AppData\\Local\\Temp\\ipykernel_8180\\2927800979.py:13: UserWarning: set_ticklabels() should only be used with a fixed number of ticks, i.e. after set_ticks() or using a FixedLocator.\n",
            "  ax.set_yticklabels(['{:g}'.format(x * 100) for x in y_vals])\n"
          ]
        },
        {
          "data": {
            "image/png": "[encoded data removed]",
            "text/plain": [
              "<Figure size 1000x500 with 1 Axes>"
            ]
          },
          "metadata": {},
          "output_type": "display_data"
        }
      ],
      "source": [
        "unit = ''\n",
        "\n",
        "fig, ax = plt.subplots(figsize=(10,5))\n",
        "\n",
        "ax.hist(resample_1['Total Compensation'], bins = sf_bins, density=True, color='blue', alpha=0.8, ec='white')\n",
        "\n",
        "y_vals = ax.get_yticks()\n",
        "\n",
        "y_label = 'Percent per ' + (unit if unit else 'unit')\n",
        "\n",
        "x_label = 'Total Compensation'\n",
        "\n",
        "ax.set_yticklabels(['{:g}'.format(x * 100) for x in y_vals])\n",
        "\n",
        "plt.ylabel(y_label)\n",
        "\n",
        "plt.xlabel(x_label)\n",
        "\n",
        "plt.xticks(rotation=90)\n",
        "\n",
        "plt.title('');\n",
        "\n",
        "plt.show()"
      ]
    },
    {
      "cell_type": "code",
      "execution_count": null,
      "id": "44ba7004-fa9e-4210-b134-4be023dbf76b",
      "metadata": {
        "id": "44ba7004-fa9e-4210-b134-4be023dbf76b",
        "outputId": "ac1c8e87-1828-4329-bfe9-72c4850414a6"
      },
      "outputs": [
        {
          "data": {
            "text/plain": [
              "106437.2"
            ]
          },
          "execution_count": 92,
          "metadata": {},
          "output_type": "execute_result"
        }
      ],
      "source": [
        "resampled_median_1 = np.percentile(resample_1['Total Compensation'], 50, interpolation='nearest')\n",
        "resampled_median_1"
      ]
    },
    {
      "cell_type": "code",
      "execution_count": null,
      "id": "bd516768-6704-4e17-b636-b19d1c338aba",
      "metadata": {
        "id": "bd516768-6704-4e17-b636-b19d1c338aba",
        "outputId": "ae73084e-b1a0-4985-c0ca-6c89406521fe"
      },
      "outputs": [
        {
          "data": {
            "text/plain": [
              "110699.74"
            ]
          },
          "execution_count": 94,
          "metadata": {},
          "output_type": "execute_result"
        }
      ],
      "source": [
        "resample_2 = our_sample.sample(len(our_sample), replace=True)\n",
        "resampled_median_2 = np.percentile(resample_2['Total Compensation'], 50, interpolation='nearest')\n",
        "resampled_median_2"
      ]
    },
    {
      "cell_type": "code",
      "execution_count": null,
      "id": "f1932cff-1c3d-4f47-90e1-89a7d1085032",
      "metadata": {
        "id": "f1932cff-1c3d-4f47-90e1-89a7d1085032"
      },
      "outputs": [],
      "source": [
        "def bootstrap_median(original_sample, label, replications):\n",
        "    \"\"\"Returns an array of bootstrapped sample medians:\n",
        "    original_sample: table containing the original sample\n",
        "    label: label of column containing the variable\n",
        "    replications: number of bootstrap samples\n",
        "    \"\"\"\n",
        "    just_one_column = original_sample[label]\n",
        "    medians = np.array([])\n",
        "    for i in np.arange(replications):\n",
        "        bootstrap_sample = just_one_column.sample(len(just_one_column), replace=True)\n",
        "        resampled_median = np.percentile(bootstrap_sample, 50)\n",
        "        medians = np.append(medians, resampled_median)\n",
        "\n",
        "    return medians"
      ]
    },
    {
      "cell_type": "code",
      "execution_count": null,
      "id": "7c77ec7a-6301-4ecd-95ca-f06111cf4bfc",
      "metadata": {
        "id": "7c77ec7a-6301-4ecd-95ca-f06111cf4bfc"
      },
      "outputs": [],
      "source": [
        "bstrap_medians = bootstrap_median(our_sample, 'Total Compensation', 5000)\n"
      ]
    },
    {
      "cell_type": "code",
      "execution_count": null,
      "id": "1743da74-8538-4b63-a27a-6bcf4929b69a",
      "metadata": {
        "id": "1743da74-8538-4b63-a27a-6bcf4929b69a",
        "outputId": "6dab4441-a1ca-4ba3-b53b-9f03192a0c65"
      },
      "outputs": [
        {
          "name": "stderr",
          "output_type": "stream",
          "text": [
            "C:\\Users\\bogel\\AppData\\Local\\Temp\\ipykernel_8180\\1101071892.py:17: UserWarning: set_ticklabels() should only be used with a fixed number of ticks, i.e. after set_ticks() or using a FixedLocator.\n",
            "  ax.set_yticklabels(['{:g}'.format(x * 100) for x in y_vals])\n"
          ]
        },
        {
          "data": {
            "image/png": "[encoded data removed]",
            "text/plain": [
              "<Figure size 1000x500 with 1 Axes>"
            ]
          },
          "metadata": {},
          "output_type": "display_data"
        }
      ],
      "source": [
        "resampled_medians = pd.DataFrame({'Bootstrap Sample Median':bstrap_medians})\n",
        "\n",
        "unit = ''\n",
        "\n",
        "fig, ax = plt.subplots(figsize=(10,5))\n",
        "\n",
        "ax.hist(resampled_medians, density=True, color='blue', alpha=0.8, ec='white')\n",
        "\n",
        "ax.scatter(pop_median, 0, color='red', s=40, zorder=10).set_clip_on(False)\n",
        "\n",
        "y_vals = ax.get_yticks()\n",
        "\n",
        "y_label = 'Percent per ' + (unit if unit else 'unit')\n",
        "\n",
        "x_label = 'Bootstrap Sample Median'\n",
        "\n",
        "ax.set_yticklabels(['{:g}'.format(x * 100) for x in y_vals])\n",
        "\n",
        "plt.ylabel(y_label)\n",
        "\n",
        "plt.xlabel(x_label)\n",
        "\n",
        "plt.xticks(rotation=90)\n",
        "\n",
        "plt.title('');\n",
        "\n",
        "plt.show()"
      ]
    },
    {
      "cell_type": "code",
      "execution_count": null,
      "id": "88dc4404-39a1-4867-9d76-adc0c38ac7a8",
      "metadata": {
        "id": "88dc4404-39a1-4867-9d76-adc0c38ac7a8",
        "outputId": "538cf724-d70b-41d9-d432-820d215c8091"
      },
      "outputs": [
        {
          "data": {
            "text/plain": [
              "107528.25"
            ]
          },
          "execution_count": 102,
          "metadata": {},
          "output_type": "execute_result"
        }
      ],
      "source": [
        "left = np.percentile(bstrap_medians, 2.5, interpolation='nearest')\n",
        "left"
      ]
    },
    {
      "cell_type": "code",
      "execution_count": null,
      "id": "a1cf39f3-fd81-4734-b06f-a9e91a435e02",
      "metadata": {
        "id": "a1cf39f3-fd81-4734-b06f-a9e91a435e02",
        "outputId": "b78e9085-9749-46ad-ec47-d7e7884edec2"
      },
      "outputs": [
        {
          "data": {
            "text/plain": [
              "116061.89"
            ]
          },
          "execution_count": 104,
          "metadata": {},
          "output_type": "execute_result"
        }
      ],
      "source": [
        "right = np.percentile(bstrap_medians, 97.5, interpolation='nearest')\n",
        "right"
      ]
    },
    {
      "cell_type": "code",
      "execution_count": null,
      "id": "bc057892-f3d8-4a03-8838-d875d4e0428a",
      "metadata": {
        "id": "bc057892-f3d8-4a03-8838-d875d4e0428a",
        "outputId": "efdf0498-b5b0-4d11-9815-436fd55db9f0"
      },
      "outputs": [
        {
          "name": "stderr",
          "output_type": "stream",
          "text": [
            "C:\\Users\\bogel\\AppData\\Local\\Temp\\ipykernel_8180\\3502335999.py:19: UserWarning: set_ticklabels() should only be used with a fixed number of ticks, i.e. after set_ticks() or using a FixedLocator.\n",
            "  ax.set_yticklabels(['{:g}'.format(x * 100) for x in y_vals])\n"
          ]
        },
        {
          "data": {
            "image/png": "[encoded data removed]",
            "text/plain": [
              "<Figure size 1000x500 with 1 Axes>"
            ]
          },
          "metadata": {},
          "output_type": "display_data"
        }
      ],
      "source": [
        "resampled_medians = pd.DataFrame({'Bootstrap Sample Median':bstrap_medians})\n",
        "\n",
        "unit = ''\n",
        "\n",
        "fig, ax = plt.subplots(figsize=(10,5))\n",
        "\n",
        "ax.hist(resampled_medians, density=True, color='blue', alpha=0.8, ec='white', zorder=5)\n",
        "\n",
        "ax.plot(np.array([left, right]), np.array([0,0]), color='yellow', lw=8, zorder=10)\n",
        "\n",
        "ax.scatter(pop_median, 0, color='red', s=40, zorder=15).set_clip_on(False)\n",
        "\n",
        "y_vals = ax.get_yticks()\n",
        "\n",
        "y_label = 'Percent per ' + (unit if unit else 'unit')\n",
        "\n",
        "x_label = 'Bootstrap Sample Median'\n",
        "\n",
        "ax.set_yticklabels(['{:g}'.format(x * 100) for x in y_vals])\n",
        "\n",
        "plt.ylabel(y_label)\n",
        "\n",
        "plt.xlabel(x_label)\n",
        "\n",
        "plt.xticks(rotation=90)\n",
        "\n",
        "plt.title('');\n",
        "\n",
        "plt.show()"
      ]
    },
    {
      "cell_type": "code",
      "execution_count": null,
      "id": "6e403389-9845-424a-a53f-f51f6b4b4282",
      "metadata": {
        "id": "6e403389-9845-424a-a53f-f51f6b4b4282",
        "outputId": "575a3fbf-7fbc-4872-bbdf-19005fddd0c4"
      },
      "outputs": [
        {
          "data": {
            "text/html": [
              "<div>\n",
              "<style scoped>\n",
              "    .dataframe tbody tr th:only-of-type {\n",
              "        vertical-align: middle;\n",
              "    }\n",
              "\n",
              "    .dataframe tbody tr th {\n",
              "        vertical-align: top;\n",
              "    }\n",
              "\n",
              "    .dataframe thead th {\n",
              "        text-align: right;\n",
              "    }\n",
              "</style>\n",
              "<table border=\"1\" class=\"dataframe\">\n",
              "  <thead>\n",
              "    <tr style=\"text-align: right;\">\n",
              "      <th></th>\n",
              "      <th>Total Compensation</th>\n",
              "    </tr>\n",
              "  </thead>\n",
              "  <tbody>\n",
              "    <tr>\n",
              "      <th>0</th>\n",
              "      <td>117766.86</td>\n",
              "    </tr>\n",
              "    <tr>\n",
              "      <th>1</th>\n",
              "      <td>41209.83</td>\n",
              "    </tr>\n",
              "    <tr>\n",
              "      <th>2</th>\n",
              "      <td>110561.13</td>\n",
              "    </tr>\n",
              "    <tr>\n",
              "      <th>3</th>\n",
              "      <td>38624.97</td>\n",
              "    </tr>\n",
              "    <tr>\n",
              "      <th>6</th>\n",
              "      <td>260280.95</td>\n",
              "    </tr>\n",
              "    <tr>\n",
              "      <th>...</th>\n",
              "      <td>...</td>\n",
              "    </tr>\n",
              "    <tr>\n",
              "      <th>42983</th>\n",
              "      <td>61349.71</td>\n",
              "    </tr>\n",
              "    <tr>\n",
              "      <th>42984</th>\n",
              "      <td>132788.81</td>\n",
              "    </tr>\n",
              "    <tr>\n",
              "      <th>42986</th>\n",
              "      <td>73295.59</td>\n",
              "    </tr>\n",
              "    <tr>\n",
              "      <th>42987</th>\n",
              "      <td>19973.37</td>\n",
              "    </tr>\n",
              "    <tr>\n",
              "      <th>42988</th>\n",
              "      <td>55812.90</td>\n",
              "    </tr>\n",
              "  </tbody>\n",
              "</table>\n",
              "<p>36569 rows × 1 columns</p>\n",
              "</div>"
            ],
            "text/plain": [
              "       Total Compensation\n",
              "0               117766.86\n",
              "1                41209.83\n",
              "2               110561.13\n",
              "3                38624.97\n",
              "6               260280.95\n",
              "...                   ...\n",
              "42983            61349.71\n",
              "42984           132788.81\n",
              "42986            73295.59\n",
              "42987            19973.37\n",
              "42988            55812.90\n",
              "\n",
              "[36569 rows x 1 columns]"
            ]
          },
          "execution_count": 108,
          "metadata": {},
          "output_type": "execute_result"
        }
      ],
      "source": [
        "total_comps = sf2015[['Total Compensation']]\n",
        "total_comps"
      ]
    },
    {
      "cell_type": "code",
      "execution_count": null,
      "id": "7b3d1953-56f9-4bc3-893e-fa9dd8c50680",
      "metadata": {
        "id": "7b3d1953-56f9-4bc3-893e-fa9dd8c50680"
      },
      "outputs": [],
      "source": [
        "# THE BIG SIMULATION: This one takes several minutes.\n",
        "\n",
        "# Generate 100 intervals, in the table intervals\n",
        "\n",
        "left_ends = np.array([])\n",
        "right_ends = np.array([])\n",
        "\n",
        "total_comps = sf2015[['Total Compensation']]\n",
        "\n",
        "for i in np.arange(100):\n",
        "    first_sample = total_comps.sample(500, replace=False)\n",
        "    medians = bootstrap_median(first_sample, 'Total Compensation', 5000)\n",
        "    left_ends = np.append(left_ends, np.percentile(medians, 2.5))\n",
        "    right_ends = np.append(right_ends, np.percentile(medians, 97.5))\n",
        "\n",
        "intervals = pd.DataFrame(\n",
        "    {'Left':left_ends,\n",
        "    'Right':right_ends}\n",
        ")"
      ]
    },
    {
      "cell_type": "code",
      "execution_count": null,
      "id": "d2b83890-8f62-4cfa-80a0-58ebf3fb4cc8",
      "metadata": {
        "id": "d2b83890-8f62-4cfa-80a0-58ebf3fb4cc8",
        "outputId": "e01122fa-bf80-46a3-edfe-631461f06c92"
      },
      "outputs": [
        {
          "data": {
            "text/html": [
              "<div>\n",
              "<style scoped>\n",
              "    .dataframe tbody tr th:only-of-type {\n",
              "        vertical-align: middle;\n",
              "    }\n",
              "\n",
              "    .dataframe tbody tr th {\n",
              "        vertical-align: top;\n",
              "    }\n",
              "\n",
              "    .dataframe thead th {\n",
              "        text-align: right;\n",
              "    }\n",
              "</style>\n",
              "<table border=\"1\" class=\"dataframe\">\n",
              "  <thead>\n",
              "    <tr style=\"text-align: right;\">\n",
              "      <th></th>\n",
              "      <th>Left</th>\n",
              "      <th>Right</th>\n",
              "    </tr>\n",
              "  </thead>\n",
              "  <tbody>\n",
              "    <tr>\n",
              "      <th>0</th>\n",
              "      <td>101311.980375</td>\n",
              "      <td>113434.910625</td>\n",
              "    </tr>\n",
              "    <tr>\n",
              "      <th>1</th>\n",
              "      <td>101039.105000</td>\n",
              "      <td>112439.824125</td>\n",
              "    </tr>\n",
              "    <tr>\n",
              "      <th>2</th>\n",
              "      <td>103404.930000</td>\n",
              "      <td>116049.190000</td>\n",
              "    </tr>\n",
              "    <tr>\n",
              "      <th>3</th>\n",
              "      <td>103660.660000</td>\n",
              "      <td>114535.250000</td>\n",
              "    </tr>\n",
              "    <tr>\n",
              "      <th>4</th>\n",
              "      <td>101120.914375</td>\n",
              "      <td>113638.200000</td>\n",
              "    </tr>\n",
              "    <tr>\n",
              "      <th>...</th>\n",
              "      <td>...</td>\n",
              "      <td>...</td>\n",
              "    </tr>\n",
              "    <tr>\n",
              "      <th>95</th>\n",
              "      <td>106118.560000</td>\n",
              "      <td>119047.217250</td>\n",
              "    </tr>\n",
              "    <tr>\n",
              "      <th>96</th>\n",
              "      <td>100268.960000</td>\n",
              "      <td>115290.440000</td>\n",
              "    </tr>\n",
              "    <tr>\n",
              "      <th>97</th>\n",
              "      <td>106261.330000</td>\n",
              "      <td>117280.730000</td>\n",
              "    </tr>\n",
              "    <tr>\n",
              "      <th>98</th>\n",
              "      <td>105942.570000</td>\n",
              "      <td>117212.121750</td>\n",
              "    </tr>\n",
              "    <tr>\n",
              "      <th>99</th>\n",
              "      <td>100055.900000</td>\n",
              "      <td>112569.110750</td>\n",
              "    </tr>\n",
              "  </tbody>\n",
              "</table>\n",
              "<p>100 rows × 2 columns</p>\n",
              "</div>"
            ],
            "text/plain": [
              "             Left          Right\n",
              "0   101311.980375  113434.910625\n",
              "1   101039.105000  112439.824125\n",
              "2   103404.930000  116049.190000\n",
              "3   103660.660000  114535.250000\n",
              "4   101120.914375  113638.200000\n",
              "..            ...            ...\n",
              "95  106118.560000  119047.217250\n",
              "96  100268.960000  115290.440000\n",
              "97  106261.330000  117280.730000\n",
              "98  105942.570000  117212.121750\n",
              "99  100055.900000  112569.110750\n",
              "\n",
              "[100 rows x 2 columns]"
            ]
          },
          "execution_count": 118,
          "metadata": {},
          "output_type": "execute_result"
        }
      ],
      "source": [
        "intervals"
      ]
    },
    {
      "cell_type": "code",
      "execution_count": null,
      "id": "1b8e1fd9-6d05-451c-abf4-c7a6caecbd41",
      "metadata": {
        "id": "1b8e1fd9-6d05-451c-abf4-c7a6caecbd41",
        "outputId": "f5fae1f3-8994-49f5-d818-234800eeae16"
      },
      "outputs": [
        {
          "data": {
            "text/plain": [
              "110305.79"
            ]
          },
          "execution_count": 119,
          "metadata": {},
          "output_type": "execute_result"
        }
      ],
      "source": [
        "pop_median"
      ]
    },
    {
      "cell_type": "code",
      "execution_count": null,
      "id": "23b1cb08-d181-4040-a35e-2bde497fc4e9",
      "metadata": {
        "id": "23b1cb08-d181-4040-a35e-2bde497fc4e9",
        "outputId": "ef7b86e1-59f1-4773-9e21-0234a8670c30"
      },
      "outputs": [
        {
          "data": {
            "text/plain": [
              "94"
            ]
          },
          "execution_count": 125,
          "metadata": {},
          "output_type": "execute_result"
        }
      ],
      "source": [
        "len(\n",
        "    intervals[\n",
        "        (intervals['Left'] < pop_median) &\n",
        "              (intervals['Right'] > pop_median)\n",
        "    ]\n",
        ")"
      ]
    },
    {
      "cell_type": "code",
      "execution_count": null,
      "id": "7e0ac3ed-85fe-4849-8c5b-59d9b6c4aec4",
      "metadata": {
        "id": "7e0ac3ed-85fe-4849-8c5b-59d9b6c4aec4",
        "outputId": "fcc5bfa5-9cfd-4093-cb65-4eed1553e3a9"
      },
      "outputs": [
        {
          "data": {
            "image/png": "[encoded data removed]",
            "text/plain": [
              "<Figure size 800x800 with 1 Axes>"
            ]
          },
          "metadata": {},
          "output_type": "display_data"
        }
      ],
      "source": [
        "replication_number = np.arange(1, 101)\n",
        "\n",
        "replication_number = replication_number.astype(str)\n",
        "\n",
        "intervals2 = pd.DataFrame(np.array([left_ends, right_ends]), columns=[replication_number])\n",
        "\n",
        "intervals2\n",
        "\n",
        "plt.figure(figsize=(8,8))\n",
        "for i in np.arange(100):\n",
        "    ends = intervals2.iloc[:,i]\n",
        "    plt.plot(ends, np.array([i+1, i+1]), color='gold')\n",
        "plt.plot(np.array([pop_median, pop_median]), np.array([0, 100]), color='red', lw=2)\n",
        "plt.xlabel('Median (dollars)')\n",
        "plt.ylabel('Replication')\n",
        "plt.title('Population Median and Intervals of Estimates');\n"
      ]
    },
    {
      "cell_type": "markdown",
      "id": "1e0eafb4-c11a-4d5f-83bd-4e38b19121f2",
      "metadata": {
        "id": "1e0eafb4-c11a-4d5f-83bd-4e38b19121f2"
      },
      "source": [
        "confidence intervals"
      ]
    },
    {
      "cell_type": "code",
      "execution_count": null,
      "id": "2aa1d108-86dd-4f1b-9625-633969084dd8",
      "metadata": {
        "id": "2aa1d108-86dd-4f1b-9625-633969084dd8",
        "outputId": "e1856f55-da83-415a-f4f5-7e60a63cf391"
      },
      "outputs": [
        {
          "data": {
            "text/html": [
              "<div>\n",
              "<style scoped>\n",
              "    .dataframe tbody tr th:only-of-type {\n",
              "        vertical-align: middle;\n",
              "    }\n",
              "\n",
              "    .dataframe tbody tr th {\n",
              "        vertical-align: top;\n",
              "    }\n",
              "\n",
              "    .dataframe thead th {\n",
              "        text-align: right;\n",
              "    }\n",
              "</style>\n",
              "<table border=\"1\" class=\"dataframe\">\n",
              "  <thead>\n",
              "    <tr style=\"text-align: right;\">\n",
              "      <th></th>\n",
              "      <th>Unnamed: 0</th>\n",
              "      <th>Birth.Weight</th>\n",
              "      <th>Gestational.Days</th>\n",
              "      <th>Maternal.Age</th>\n",
              "      <th>Maternal.Height</th>\n",
              "      <th>Maternal.Pregnancy.Weight</th>\n",
              "      <th>Maternal.Smoker</th>\n",
              "    </tr>\n",
              "  </thead>\n",
              "  <tbody>\n",
              "    <tr>\n",
              "      <th>0</th>\n",
              "      <td>1</td>\n",
              "      <td>120</td>\n",
              "      <td>284</td>\n",
              "      <td>27</td>\n",
              "      <td>62</td>\n",
              "      <td>100</td>\n",
              "      <td>False</td>\n",
              "    </tr>\n",
              "    <tr>\n",
              "      <th>1</th>\n",
              "      <td>2</td>\n",
              "      <td>113</td>\n",
              "      <td>282</td>\n",
              "      <td>33</td>\n",
              "      <td>64</td>\n",
              "      <td>135</td>\n",
              "      <td>False</td>\n",
              "    </tr>\n",
              "    <tr>\n",
              "      <th>2</th>\n",
              "      <td>3</td>\n",
              "      <td>128</td>\n",
              "      <td>279</td>\n",
              "      <td>28</td>\n",
              "      <td>64</td>\n",
              "      <td>115</td>\n",
              "      <td>True</td>\n",
              "    </tr>\n",
              "    <tr>\n",
              "      <th>3</th>\n",
              "      <td>4</td>\n",
              "      <td>108</td>\n",
              "      <td>282</td>\n",
              "      <td>23</td>\n",
              "      <td>67</td>\n",
              "      <td>125</td>\n",
              "      <td>True</td>\n",
              "    </tr>\n",
              "    <tr>\n",
              "      <th>4</th>\n",
              "      <td>5</td>\n",
              "      <td>136</td>\n",
              "      <td>286</td>\n",
              "      <td>25</td>\n",
              "      <td>62</td>\n",
              "      <td>93</td>\n",
              "      <td>False</td>\n",
              "    </tr>\n",
              "    <tr>\n",
              "      <th>...</th>\n",
              "      <td>...</td>\n",
              "      <td>...</td>\n",
              "      <td>...</td>\n",
              "      <td>...</td>\n",
              "      <td>...</td>\n",
              "      <td>...</td>\n",
              "      <td>...</td>\n",
              "    </tr>\n",
              "    <tr>\n",
              "      <th>1169</th>\n",
              "      <td>1170</td>\n",
              "      <td>113</td>\n",
              "      <td>275</td>\n",
              "      <td>27</td>\n",
              "      <td>60</td>\n",
              "      <td>100</td>\n",
              "      <td>False</td>\n",
              "    </tr>\n",
              "    <tr>\n",
              "      <th>1170</th>\n",
              "      <td>1171</td>\n",
              "      <td>128</td>\n",
              "      <td>265</td>\n",
              "      <td>24</td>\n",
              "      <td>67</td>\n",
              "      <td>120</td>\n",
              "      <td>False</td>\n",
              "    </tr>\n",
              "    <tr>\n",
              "      <th>1171</th>\n",
              "      <td>1172</td>\n",
              "      <td>130</td>\n",
              "      <td>291</td>\n",
              "      <td>30</td>\n",
              "      <td>65</td>\n",
              "      <td>150</td>\n",
              "      <td>True</td>\n",
              "    </tr>\n",
              "    <tr>\n",
              "      <th>1172</th>\n",
              "      <td>1173</td>\n",
              "      <td>125</td>\n",
              "      <td>281</td>\n",
              "      <td>21</td>\n",
              "      <td>65</td>\n",
              "      <td>110</td>\n",
              "      <td>False</td>\n",
              "    </tr>\n",
              "    <tr>\n",
              "      <th>1173</th>\n",
              "      <td>1174</td>\n",
              "      <td>117</td>\n",
              "      <td>297</td>\n",
              "      <td>38</td>\n",
              "      <td>65</td>\n",
              "      <td>129</td>\n",
              "      <td>False</td>\n",
              "    </tr>\n",
              "  </tbody>\n",
              "</table>\n",
              "<p>1174 rows × 7 columns</p>\n",
              "</div>"
            ],
            "text/plain": [
              "      Unnamed: 0  Birth.Weight  Gestational.Days  Maternal.Age  \\\n",
              "0              1           120               284            27   \n",
              "1              2           113               282            33   \n",
              "2              3           128               279            28   \n",
              "3              4           108               282            23   \n",
              "4              5           136               286            25   \n",
              "...          ...           ...               ...           ...   \n",
              "1169        1170           113               275            27   \n",
              "1170        1171           128               265            24   \n",
              "1171        1172           130               291            30   \n",
              "1172        1173           125               281            21   \n",
              "1173        1174           117               297            38   \n",
              "\n",
              "      Maternal.Height  Maternal.Pregnancy.Weight  Maternal.Smoker  \n",
              "0                  62                        100            False  \n",
              "1                  64                        135            False  \n",
              "2                  64                        115             True  \n",
              "3                  67                        125             True  \n",
              "4                  62                         93            False  \n",
              "...               ...                        ...              ...  \n",
              "1169               60                        100            False  \n",
              "1170               67                        120            False  \n",
              "1171               65                        150             True  \n",
              "1172               65                        110            False  \n",
              "1173               65                        129            False  \n",
              "\n",
              "[1174 rows x 7 columns]"
            ]
          },
          "execution_count": 129,
          "metadata": {},
          "output_type": "execute_result"
        }
      ],
      "source": [
        "baby=pd.read_csv('baby.csv')\n",
        "baby"
      ]
    },
    {
      "cell_type": "code",
      "execution_count": null,
      "id": "13515bf4-e754-44b2-b181-aebb4bdb8be5",
      "metadata": {
        "id": "13515bf4-e754-44b2-b181-aebb4bdb8be5",
        "outputId": "13e03ef9-d326-4413-bcb5-b47ef1094a57"
      },
      "outputs": [
        {
          "name": "stderr",
          "output_type": "stream",
          "text": [
            "C:\\Users\\bogel\\AppData\\Local\\Temp\\ipykernel_8180\\2208958793.py:3: SettingWithCopyWarning: \n",
            "A value is trying to be set on a copy of a slice from a DataFrame.\n",
            "Try using .loc[row_indexer,col_indexer] = value instead\n",
            "\n",
            "See the caveats in the documentation: https://pandas.pydata.org/pandas-docs/stable/user_guide/indexing.html#returning-a-view-versus-a-copy\n",
            "  ratios['Ratio BW/GD'] = baby['Birth.Weight']/baby['Gestational.Days']\n"
          ]
        }
      ],
      "source": [
        "ratios = baby[['Birth.Weight', 'Gestational.Days']]\n",
        "\n",
        "ratios['Ratio BW/GD'] = baby['Birth.Weight']/baby['Gestational.Days']"
      ]
    },
    {
      "cell_type": "code",
      "execution_count": null,
      "id": "d0d09b49-f754-46fd-a47e-34cdd68fad36",
      "metadata": {
        "id": "d0d09b49-f754-46fd-a47e-34cdd68fad36",
        "outputId": "078c5354-cafc-418e-c3cb-67c37e89742f"
      },
      "outputs": [
        {
          "data": {
            "text/html": [
              "<div>\n",
              "<style scoped>\n",
              "    .dataframe tbody tr th:only-of-type {\n",
              "        vertical-align: middle;\n",
              "    }\n",
              "\n",
              "    .dataframe tbody tr th {\n",
              "        vertical-align: top;\n",
              "    }\n",
              "\n",
              "    .dataframe thead th {\n",
              "        text-align: right;\n",
              "    }\n",
              "</style>\n",
              "<table border=\"1\" class=\"dataframe\">\n",
              "  <thead>\n",
              "    <tr style=\"text-align: right;\">\n",
              "      <th></th>\n",
              "      <th>Birth.Weight</th>\n",
              "      <th>Gestational.Days</th>\n",
              "      <th>Ratio BW/GD</th>\n",
              "    </tr>\n",
              "  </thead>\n",
              "  <tbody>\n",
              "    <tr>\n",
              "      <th>0</th>\n",
              "      <td>120</td>\n",
              "      <td>284</td>\n",
              "      <td>0.422535</td>\n",
              "    </tr>\n",
              "    <tr>\n",
              "      <th>1</th>\n",
              "      <td>113</td>\n",
              "      <td>282</td>\n",
              "      <td>0.400709</td>\n",
              "    </tr>\n",
              "    <tr>\n",
              "      <th>2</th>\n",
              "      <td>128</td>\n",
              "      <td>279</td>\n",
              "      <td>0.458781</td>\n",
              "    </tr>\n",
              "    <tr>\n",
              "      <th>3</th>\n",
              "      <td>108</td>\n",
              "      <td>282</td>\n",
              "      <td>0.382979</td>\n",
              "    </tr>\n",
              "    <tr>\n",
              "      <th>4</th>\n",
              "      <td>136</td>\n",
              "      <td>286</td>\n",
              "      <td>0.475524</td>\n",
              "    </tr>\n",
              "    <tr>\n",
              "      <th>...</th>\n",
              "      <td>...</td>\n",
              "      <td>...</td>\n",
              "      <td>...</td>\n",
              "    </tr>\n",
              "    <tr>\n",
              "      <th>1169</th>\n",
              "      <td>113</td>\n",
              "      <td>275</td>\n",
              "      <td>0.410909</td>\n",
              "    </tr>\n",
              "    <tr>\n",
              "      <th>1170</th>\n",
              "      <td>128</td>\n",
              "      <td>265</td>\n",
              "      <td>0.483019</td>\n",
              "    </tr>\n",
              "    <tr>\n",
              "      <th>1171</th>\n",
              "      <td>130</td>\n",
              "      <td>291</td>\n",
              "      <td>0.446735</td>\n",
              "    </tr>\n",
              "    <tr>\n",
              "      <th>1172</th>\n",
              "      <td>125</td>\n",
              "      <td>281</td>\n",
              "      <td>0.444840</td>\n",
              "    </tr>\n",
              "    <tr>\n",
              "      <th>1173</th>\n",
              "      <td>117</td>\n",
              "      <td>297</td>\n",
              "      <td>0.393939</td>\n",
              "    </tr>\n",
              "  </tbody>\n",
              "</table>\n",
              "<p>1174 rows × 3 columns</p>\n",
              "</div>"
            ],
            "text/plain": [
              "      Birth.Weight  Gestational.Days  Ratio BW/GD\n",
              "0              120               284     0.422535\n",
              "1              113               282     0.400709\n",
              "2              128               279     0.458781\n",
              "3              108               282     0.382979\n",
              "4              136               286     0.475524\n",
              "...            ...               ...          ...\n",
              "1169           113               275     0.410909\n",
              "1170           128               265     0.483019\n",
              "1171           130               291     0.446735\n",
              "1172           125               281     0.444840\n",
              "1173           117               297     0.393939\n",
              "\n",
              "[1174 rows x 3 columns]"
            ]
          },
          "execution_count": 170,
          "metadata": {},
          "output_type": "execute_result"
        }
      ],
      "source": [
        "ratios"
      ]
    },
    {
      "cell_type": "code",
      "execution_count": null,
      "id": "100cdc61-4ec1-4cfb-a935-3cf319267544",
      "metadata": {
        "id": "100cdc61-4ec1-4cfb-a935-3cf319267544",
        "outputId": "2d9f48e7-f52a-4181-edce-e2d12ffced6c"
      },
      "outputs": [
        {
          "name": "stderr",
          "output_type": "stream",
          "text": [
            "C:\\Users\\bogel\\AppData\\Local\\Temp\\ipykernel_8180\\169451140.py:13: UserWarning: set_ticklabels() should only be used with a fixed number of ticks, i.e. after set_ticks() or using a FixedLocator.\n",
            "  ax.set_yticklabels(['{:g}'.format(x * 100) for x in y_vals])\n"
          ]
        },
        {
          "data": {
            "image/png": "[encoded data removed]",
            "text/plain": [
              "<Figure size 800x600 with 1 Axes>"
            ]
          },
          "metadata": {},
          "output_type": "display_data"
        }
      ],
      "source": [
        "unit = ''\n",
        "\n",
        "fig, ax = plt.subplots(figsize=(8,6))\n",
        "\n",
        "ax.hist(ratios['Ratio BW/GD'], density=True, color='blue', alpha=0.8, ec='white')\n",
        "\n",
        "y_vals = ax.get_yticks()\n",
        "\n",
        "y_label = 'Percent per ' + (unit if unit else 'unit')\n",
        "\n",
        "x_label = 'Ratio BW/GD'\n",
        "\n",
        "ax.set_yticklabels(['{:g}'.format(x * 100) for x in y_vals])\n",
        "\n",
        "plt.ylabel(y_label)\n",
        "\n",
        "plt.xlabel(x_label)\n",
        "\n",
        "plt.xticks(rotation=90)\n",
        "\n",
        "plt.title('');\n",
        "\n",
        "plt.show()"
      ]
    },
    {
      "cell_type": "code",
      "execution_count": null,
      "id": "32c6d484-4c0d-4c39-a6aa-45e9106a92ff",
      "metadata": {
        "id": "32c6d484-4c0d-4c39-a6aa-45e9106a92ff",
        "outputId": "3df401f9-d5c1-4d69-e48f-77fc8577ed8a"
      },
      "outputs": [
        {
          "data": {
            "text/html": [
              "<div>\n",
              "<style scoped>\n",
              "    .dataframe tbody tr th:only-of-type {\n",
              "        vertical-align: middle;\n",
              "    }\n",
              "\n",
              "    .dataframe tbody tr th {\n",
              "        vertical-align: top;\n",
              "    }\n",
              "\n",
              "    .dataframe thead th {\n",
              "        text-align: right;\n",
              "    }\n",
              "</style>\n",
              "<table border=\"1\" class=\"dataframe\">\n",
              "  <thead>\n",
              "    <tr style=\"text-align: right;\">\n",
              "      <th></th>\n",
              "      <th>Birth.Weight</th>\n",
              "      <th>Gestational.Days</th>\n",
              "      <th>Ratio BW/GD</th>\n",
              "    </tr>\n",
              "  </thead>\n",
              "  <tbody>\n",
              "    <tr>\n",
              "      <th>238</th>\n",
              "      <td>116</td>\n",
              "      <td>148</td>\n",
              "      <td>0.783784</td>\n",
              "    </tr>\n",
              "  </tbody>\n",
              "</table>\n",
              "</div>"
            ],
            "text/plain": [
              "     Birth.Weight  Gestational.Days  Ratio BW/GD\n",
              "238           116               148     0.783784"
            ]
          },
          "execution_count": 143,
          "metadata": {},
          "output_type": "execute_result"
        }
      ],
      "source": [
        "ratios_1 = ratios.sort_values(by=['Ratio BW/GD'], ascending=False)\n",
        "\n",
        "ratios_1.iloc[[0]]"
      ]
    },
    {
      "cell_type": "code",
      "execution_count": null,
      "id": "5edc7c74-cd5f-4377-a45c-0836b9c34b31",
      "metadata": {
        "id": "5edc7c74-cd5f-4377-a45c-0836b9c34b31",
        "outputId": "b81fed8b-f4c9-40b6-806b-2de4c6a48514"
      },
      "outputs": [
        {
          "data": {
            "text/plain": [
              "0.42907801418439717"
            ]
          },
          "execution_count": 145,
          "metadata": {},
          "output_type": "execute_result"
        }
      ],
      "source": [
        "np.median(ratios.iloc[:,2])"
      ]
    },
    {
      "cell_type": "code",
      "execution_count": null,
      "id": "a7386f6f-00a9-4432-82c8-126953cb40d0",
      "metadata": {
        "id": "a7386f6f-00a9-4432-82c8-126953cb40d0",
        "outputId": "98b788e5-4a24-41b7-9e70-61608a782128"
      },
      "outputs": [
        {
          "data": {
            "text/plain": [
              "0.4279088748707598"
            ]
          },
          "execution_count": 147,
          "metadata": {},
          "output_type": "execute_result"
        }
      ],
      "source": [
        "np.mean(ratios.iloc[:,2])"
      ]
    },
    {
      "cell_type": "code",
      "execution_count": null,
      "id": "1c2aef72-4be9-41f9-b5aa-6d4fdd55b5e3",
      "metadata": {
        "id": "1c2aef72-4be9-41f9-b5aa-6d4fdd55b5e3"
      },
      "outputs": [],
      "source": [
        "def bootstrap_median(original_sample, label, replications):\n",
        "\n",
        "    \"\"\"Returns an array of bootstrapped sample medians:\n",
        "    original_sample: table containing the original sample\n",
        "    label: label of column containing the variable\n",
        "    replications: number of bootstrap samples\n",
        "    \"\"\"\n",
        "    just_one_column = original_sample[[label]]\n",
        "    medians = np.array([])\n",
        "    for i in np.arange(replications):\n",
        "        bootstrap_sample = just_one_column.sample(len(just_one_column), replace=True)\n",
        "        resampled_median = np.percentile(bootstrap_sample, 50)\n",
        "        medians = np.append(medians, resampled_median)\n",
        "\n",
        "    return medians"
      ]
    },
    {
      "cell_type": "code",
      "execution_count": null,
      "id": "8b68967c-1a40-49eb-b6be-8cb28bb62cb4",
      "metadata": {
        "id": "8b68967c-1a40-49eb-b6be-8cb28bb62cb4"
      },
      "outputs": [],
      "source": [
        "# Generate the medians from 5000 bootstrap samples\n",
        "bstrap_medians = bootstrap_median(ratios, 'Ratio BW/GD', 5000)"
      ]
    },
    {
      "cell_type": "code",
      "execution_count": null,
      "id": "b68c1491-9caf-4ddc-8ffc-bf35d2bf8b67",
      "metadata": {
        "id": "b68c1491-9caf-4ddc-8ffc-bf35d2bf8b67",
        "outputId": "01982c25-01e3-4ed5-b397-6e0b648b7aa3"
      },
      "outputs": [
        {
          "data": {
            "text/plain": [
              "array([0.42545455, 0.43272727])"
            ]
          },
          "execution_count": 178,
          "metadata": {},
          "output_type": "execute_result"
        }
      ],
      "source": [
        "# Get the endpoints of the 95% confidence interval\n",
        "left = np.percentile(bstrap_medians, 2.5, interpolation='nearest')\n",
        "right = np.percentile(bstrap_medians, 97.5, interpolation='nearest')\n",
        "\n",
        "np.array([left, right])"
      ]
    },
    {
      "cell_type": "code",
      "execution_count": null,
      "id": "30766c7a-74c7-499c-8292-4a9eeb5b76ab",
      "metadata": {
        "id": "30766c7a-74c7-499c-8292-4a9eeb5b76ab",
        "outputId": "3c3831a8-d680-45e1-a366-857ebe4981f5"
      },
      "outputs": [
        {
          "name": "stderr",
          "output_type": "stream",
          "text": [
            "C:\\Users\\bogel\\AppData\\Local\\Temp\\ipykernel_8180\\1966830041.py:17: UserWarning: set_ticklabels() should only be used with a fixed number of ticks, i.e. after set_ticks() or using a FixedLocator.\n",
            "  ax.set_yticklabels(['{:g}'.format(x * 100) for x in y_vals])\n"
          ]
        },
        {
          "data": {
            "image/png": "[encoded data removed]",
            "text/plain": [
              "<Figure size 1000x500 with 1 Axes>"
            ]
          },
          "metadata": {},
          "output_type": "display_data"
        }
      ],
      "source": [
        "resampled_medians = pd.DataFrame({'Bootstrap Sample Median':bstrap_medians})\n",
        "\n",
        "unit = ''\n",
        "\n",
        "fig, ax = plt.subplots(figsize=(10,5))\n",
        "\n",
        "ax.hist(resampled_medians, bins=15, density=True, color='blue', alpha=0.8, ec='white', zorder=5)\n",
        "\n",
        "ax.plot(np.array([left, right]), np.array([0,0]), color='yellow', lw=8, zorder=10)\n",
        "\n",
        "y_vals = ax.get_yticks()\n",
        "\n",
        "y_label = 'Percent per ' + (unit if unit else 'unit')\n",
        "\n",
        "x_label = 'Bootstrap Sample Median'\n",
        "\n",
        "ax.set_yticklabels(['{:g}'.format(x * 100) for x in y_vals])\n",
        "\n",
        "plt.ylabel(y_label)\n",
        "\n",
        "plt.xlabel(x_label)\n",
        "\n",
        "plt.xticks(rotation=90)\n",
        "\n",
        "plt.title('');\n",
        "\n",
        "plt.show()\n"
      ]
    },
    {
      "cell_type": "code",
      "execution_count": null,
      "id": "6db4b3fc-ddcc-43d4-a135-ea675ec27134",
      "metadata": {
        "id": "6db4b3fc-ddcc-43d4-a135-ea675ec27134",
        "outputId": "7ee8fae2-27e7-4d99-af4e-5f03d17b05b1"
      },
      "outputs": [
        {
          "name": "stderr",
          "output_type": "stream",
          "text": [
            "C:\\Users\\bogel\\AppData\\Local\\Temp\\ipykernel_8180\\3000538520.py:13: UserWarning: set_ticklabels() should only be used with a fixed number of ticks, i.e. after set_ticks() or using a FixedLocator.\n",
            "  ax.set_yticklabels(['{:g}'.format(x * 100) for x in y_vals])\n"
          ]
        },
        {
          "data": {
            "image/png": "[encoded data removed]",
            "text/plain": [
              "<Figure size 800x500 with 1 Axes>"
            ]
          },
          "metadata": {},
          "output_type": "display_data"
        }
      ],
      "source": [
        "unit = ''\n",
        "\n",
        "fig, ax = plt.subplots(figsize=(8,5))\n",
        "\n",
        "ax.hist(baby['Maternal.Age'], density=True, color='blue', alpha=0.8, ec='white', zorder=5)\n",
        "\n",
        "y_vals = ax.get_yticks()\n",
        "\n",
        "y_label = 'Percent per ' + (unit if unit else 'unit')\n",
        "\n",
        "x_label = 'Maternal.Age'\n",
        "\n",
        "ax.set_yticklabels(['{:g}'.format(x * 100) for x in y_vals])\n",
        "\n",
        "plt.ylabel(y_label)\n",
        "\n",
        "plt.xlabel(x_label)\n",
        "\n",
        "plt.xticks(rotation=90)\n",
        "\n",
        "plt.title('');\n",
        "\n",
        "plt.show()"
      ]
    },
    {
      "cell_type": "code",
      "execution_count": null,
      "id": "ed6abf22-b61e-4a23-a58d-331fe3a4f64b",
      "metadata": {
        "id": "ed6abf22-b61e-4a23-a58d-331fe3a4f64b",
        "outputId": "afb0e42f-383d-4d69-826d-48034e991702"
      },
      "outputs": [
        {
          "data": {
            "text/plain": [
              "27.228279386712096"
            ]
          },
          "execution_count": 184,
          "metadata": {},
          "output_type": "execute_result"
        }
      ],
      "source": [
        "np.mean(baby['Maternal.Age'])"
      ]
    },
    {
      "cell_type": "code",
      "execution_count": null,
      "id": "c8797614-bc7d-41dc-b38f-244a3052fbc4",
      "metadata": {
        "id": "c8797614-bc7d-41dc-b38f-244a3052fbc4"
      },
      "outputs": [],
      "source": [
        "def bootstrap_mean(original_sample, label, replications):\n",
        "\n",
        "    \"\"\"Returns an array of bootstrapped sample means:\n",
        "    original_sample: table containing the original sample\n",
        "    label: label of column containing the variable\n",
        "    replications: number of bootstrap samples\n",
        "    \"\"\"\n",
        "\n",
        "    just_one_column = original_sample[[label]]\n",
        "    means = np.array([])\n",
        "    for i in np.arange(replications):\n",
        "        bootstrap_sample = just_one_column.sample(len(just_one_column), replace=True)\n",
        "        resampled_mean = np.mean(bootstrap_sample.iloc[:,0])\n",
        "        means = np.append(means, resampled_mean)\n",
        "\n",
        "    return means"
      ]
    },
    {
      "cell_type": "code",
      "execution_count": null,
      "id": "13b78e3a-f1e4-4f0b-a992-9b926f2580ef",
      "metadata": {
        "id": "13b78e3a-f1e4-4f0b-a992-9b926f2580ef",
        "outputId": "c7aa37e7-a20d-4dec-ce6c-b4c70b62e678"
      },
      "outputs": [
        {
          "data": {
            "text/plain": [
              "array([26.9011925 , 27.56132879])"
            ]
          },
          "execution_count": 190,
          "metadata": {},
          "output_type": "execute_result"
        }
      ],
      "source": [
        "# Generate the means from 5000 bootstrap samples\n",
        "bstrap_means = bootstrap_mean(baby, 'Maternal.Age', 5000)\n",
        "\n",
        "# Get the endpoints of the 95% confidence interval\n",
        "left = np.percentile(bstrap_means, 2.5, interpolation='nearest')\n",
        "right = np.percentile(bstrap_means, 97.5, interpolation='nearest')\n",
        "\n",
        "np.array([left, right])"
      ]
    },
    {
      "cell_type": "code",
      "execution_count": null,
      "id": "7c7cf9ff-7019-412c-aa58-83a573b9d5d0",
      "metadata": {
        "id": "7c7cf9ff-7019-412c-aa58-83a573b9d5d0",
        "outputId": "2b89ae7b-e604-485d-802a-e82c4c0b7404"
      },
      "outputs": [
        {
          "name": "stderr",
          "output_type": "stream",
          "text": [
            "C:\\Users\\bogel\\AppData\\Local\\Temp\\ipykernel_8180\\4103914721.py:17: UserWarning: set_ticklabels() should only be used with a fixed number of ticks, i.e. after set_ticks() or using a FixedLocator.\n",
            "  ax.set_yticklabels(['{:g}'.format(x * 100) for x in y_vals])\n"
          ]
        },
        {
          "data": {
            "image/png": "[encoded data removed]",
            "text/plain": [
              "<Figure size 1000x500 with 1 Axes>"
            ]
          },
          "metadata": {},
          "output_type": "display_data"
        }
      ],
      "source": [
        "resampled_means = pd.DataFrame({'Bootstrap Sample Mean':bstrap_means})\n",
        "\n",
        "unit = ''\n",
        "\n",
        "fig, ax = plt.subplots(figsize=(10,5))\n",
        "\n",
        "ax.hist(resampled_means, bins=15, density=True, color='blue', alpha=0.8, ec='white', zorder=5)\n",
        "\n",
        "ax.plot(np.array([left, right]), np.array([0,0]), color='yellow', lw=8, zorder=10)\n",
        "\n",
        "y_vals = ax.get_yticks()\n",
        "\n",
        "y_label = 'Percent per ' + (unit if unit else 'unit')\n",
        "\n",
        "x_label = 'Bootstrap Sample Median'\n",
        "\n",
        "ax.set_yticklabels(['{:g}'.format(x * 100) for x in y_vals])\n",
        "\n",
        "plt.ylabel(y_label)\n",
        "\n",
        "plt.xlabel(x_label)\n",
        "\n",
        "plt.xticks(rotation=90)\n",
        "\n",
        "plt.title('');\n",
        "\n",
        "plt.show()"
      ]
    },
    {
      "cell_type": "code",
      "execution_count": null,
      "id": "698db97e-1e21-4e1c-b38a-13a482318efc",
      "metadata": {
        "id": "698db97e-1e21-4e1c-b38a-13a482318efc",
        "outputId": "a63320b6-7c2a-4327-d360-d1ee66ec79ea"
      },
      "outputs": [
        {
          "name": "stderr",
          "output_type": "stream",
          "text": [
            "C:\\Users\\bogel\\AppData\\Local\\Temp\\ipykernel_8180\\3673948100.py:13: UserWarning: set_ticklabels() should only be used with a fixed number of ticks, i.e. after set_ticks() or using a FixedLocator.\n",
            "  ax.set_yticklabels(['{:g}'.format(x * 100) for x in y_vals])\n"
          ]
        },
        {
          "data": {
            "image/png": "[encoded data removed]",
            "text/plain": [
              "<Figure size 800x500 with 1 Axes>"
            ]
          },
          "metadata": {},
          "output_type": "display_data"
        }
      ],
      "source": [
        "unit = ''\n",
        "\n",
        "fig, ax = plt.subplots(figsize=(8,5))\n",
        "\n",
        "ax.hist(baby['Maternal.Age'], density=True, color='blue', alpha=0.8, ec='white', zorder=5)\n",
        "\n",
        "y_vals = ax.get_yticks()\n",
        "\n",
        "y_label = 'Percent per ' + (unit if unit else 'unit')\n",
        "\n",
        "x_label = 'Maternal.Age'\n",
        "\n",
        "ax.set_yticklabels(['{:g}'.format(x * 100) for x in y_vals])\n",
        "\n",
        "plt.ylabel(y_label)\n",
        "\n",
        "plt.xlabel(x_label)\n",
        "\n",
        "plt.title('');\n",
        "\n",
        "plt.show()"
      ]
    },
    {
      "cell_type": "code",
      "execution_count": null,
      "id": "8e317fe5-5fae-4dbb-bed2-61dd0026b0b8",
      "metadata": {
        "id": "8e317fe5-5fae-4dbb-bed2-61dd0026b0b8",
        "outputId": "849b95eb-8d74-4c05-b6a3-106b7a67324d"
      },
      "outputs": [
        {
          "data": {
            "text/plain": [
              "array([27.00936968, 27.44293015])"
            ]
          },
          "execution_count": 198,
          "metadata": {},
          "output_type": "execute_result"
        }
      ],
      "source": [
        "left_80 = np.percentile(bstrap_means, 10, interpolation='nearest')\n",
        "right_80 = np.percentile(bstrap_means, 90, interpolation='nearest')\n",
        "np.array([left_80, right_80])"
      ]
    },
    {
      "cell_type": "code",
      "execution_count": null,
      "id": "e86ac012-54d8-46d7-9d86-5f0346bb92a4",
      "metadata": {
        "id": "e86ac012-54d8-46d7-9d86-5f0346bb92a4",
        "outputId": "1157e549-f6e2-463b-9817-b506cb33326f"
      },
      "outputs": [
        {
          "name": "stderr",
          "output_type": "stream",
          "text": [
            "C:\\Users\\bogel\\AppData\\Local\\Temp\\ipykernel_8180\\1022594206.py:15: UserWarning: set_ticklabels() should only be used with a fixed number of ticks, i.e. after set_ticks() or using a FixedLocator.\n",
            "  ax.set_yticklabels(['{:g}'.format(x * 100) for x in y_vals])\n"
          ]
        },
        {
          "data": {
            "image/png": "[encoded data removed]",
            "text/plain": [
              "<Figure size 1000x500 with 1 Axes>"
            ]
          },
          "metadata": {},
          "output_type": "display_data"
        }
      ],
      "source": [
        "unit = ''\n",
        "\n",
        "fig, ax = plt.subplots(figsize=(10,5))\n",
        "\n",
        "ax.hist(resampled_means, bins=15, density=True, color='blue', alpha=0.8, ec='white', zorder=5)\n",
        "\n",
        "ax.plot(np.array([left_80, right_80]), np.array([0,0]), color='yellow', lw=8, zorder=10)\n",
        "\n",
        "y_vals = ax.get_yticks()\n",
        "\n",
        "y_label = 'Percent per ' + (unit if unit else 'unit')\n",
        "\n",
        "x_label = 'Bootstrap Sample Mean'\n",
        "\n",
        "ax.set_yticklabels(['{:g}'.format(x * 100) for x in y_vals])\n",
        "\n",
        "plt.ylabel(y_label)\n",
        "\n",
        "plt.xlabel(x_label)\n",
        "\n",
        "plt.xticks(rotation=90)\n",
        "\n",
        "plt.title('');\n",
        "\n",
        "plt.show()"
      ]
    },
    {
      "cell_type": "code",
      "execution_count": null,
      "id": "a46ddfff-cee4-4a3f-9615-c52d6d3aa8e4",
      "metadata": {
        "id": "a46ddfff-cee4-4a3f-9615-c52d6d3aa8e4",
        "outputId": "09a282cd-5ea7-43d6-f82f-30cf8a5bbf12"
      },
      "outputs": [
        {
          "data": {
            "text/plain": [
              "0.3909710391822828"
            ]
          },
          "execution_count": 202,
          "metadata": {},
          "output_type": "execute_result"
        }
      ],
      "source": [
        "len(baby[baby['Maternal.Smoker'] == True]) / len(baby)"
      ]
    },
    {
      "cell_type": "code",
      "execution_count": null,
      "id": "5cc21549-3ff6-4448-beba-cc03a6dd6146",
      "metadata": {
        "id": "5cc21549-3ff6-4448-beba-cc03a6dd6146",
        "outputId": "8276a8cf-90b8-4206-92bf-c1e31c059907"
      },
      "outputs": [
        {
          "data": {
            "text/plain": [
              "0.3909710391822828"
            ]
          },
          "execution_count": 204,
          "metadata": {},
          "output_type": "execute_result"
        }
      ],
      "source": [
        "smoking = baby['Maternal.Smoker']\n",
        "np.count_nonzero(smoking)/len(smoking)"
      ]
    },
    {
      "cell_type": "code",
      "execution_count": null,
      "id": "58fc7acb-9d42-4136-9ee5-0af677e67217",
      "metadata": {
        "id": "58fc7acb-9d42-4136-9ee5-0af677e67217"
      },
      "outputs": [],
      "source": [
        "def bootstrap_proportion(original_sample, label, replications):\n",
        "\n",
        "    \"\"\"Returns an array of bootstrapped sample proportions:\n",
        "    original_sample: table containing the original sample\n",
        "    label: label of column containing the Boolean variable\n",
        "    replications: number of bootstrap samples\n",
        "    \"\"\"\n",
        "\n",
        "    just_one_column = original_sample[[label]]\n",
        "    proportions = np.array([])\n",
        "    for i in np.arange(replications):\n",
        "        bootstrap_sample = just_one_column.sample(len(just_one_column), replace=True)\n",
        "        resample_array = bootstrap_sample.iloc[:,0]\n",
        "        resampled_proportion = np.count_nonzero(resample_array)/len(resample_array)\n",
        "        proportions = np.append(proportions, resampled_proportion)\n",
        "\n",
        "    return proportions"
      ]
    },
    {
      "cell_type": "code",
      "execution_count": null,
      "id": "4b3bf9c3-d65d-4665-9a5e-a96b33c587e9",
      "metadata": {
        "id": "4b3bf9c3-d65d-4665-9a5e-a96b33c587e9",
        "outputId": "14016fec-e4a8-45d5-c875-34f0cbc38199"
      },
      "outputs": [
        {
          "data": {
            "text/plain": [
              "array([0.36201022, 0.41908007])"
            ]
          },
          "execution_count": 210,
          "metadata": {},
          "output_type": "execute_result"
        }
      ],
      "source": [
        "# Generate the proportions from 5000 bootstrap samples\n",
        "bstrap_props = bootstrap_proportion(baby, 'Maternal.Smoker', 5000)\n",
        "\n",
        "# Get the endpoints of the 95% confidence interval\n",
        "left = np.percentile(bstrap_props, 2.5, interpolation='nearest')\n",
        "right = np.percentile(bstrap_props, 97.5, interpolation='nearest')\n",
        "\n",
        "np.array([left, right])"
      ]
    },
    {
      "cell_type": "code",
      "execution_count": null,
      "id": "401558ab-f689-459c-a2d4-68d40758342d",
      "metadata": {
        "id": "401558ab-f689-459c-a2d4-68d40758342d",
        "outputId": "40380c0b-a6aa-4d21-cf96-4da8b7de6419"
      },
      "outputs": [
        {
          "name": "stderr",
          "output_type": "stream",
          "text": [
            "C:\\Users\\bogel\\AppData\\Local\\Temp\\ipykernel_8180\\648703743.py:17: UserWarning: set_ticklabels() should only be used with a fixed number of ticks, i.e. after set_ticks() or using a FixedLocator.\n",
            "  ax.set_yticklabels(['{:g}'.format(x * 100) for x in y_vals])\n"
          ]
        },
        {
          "data": {
            "image/png": "[encoded data removed]",
            "text/plain": [
              "<Figure size 1000x500 with 1 Axes>"
            ]
          },
          "metadata": {},
          "output_type": "display_data"
        }
      ],
      "source": [
        "resampled_proportions = pd.DataFrame({'Bootstrap Sample Proportion':bstrap_props})\n",
        "\n",
        "unit = ''\n",
        "\n",
        "fig, ax = plt.subplots(figsize=(10,5))\n",
        "\n",
        "ax.hist(resampled_proportions, bins=15, density=True, color='blue', alpha=0.8, ec='white', zorder=5)\n",
        "\n",
        "ax.plot(np.array([left, right]), np.array([0,0]), color='yellow', lw=8, zorder=10)\n",
        "\n",
        "y_vals = ax.get_yticks()\n",
        "\n",
        "y_label = 'Percent per ' + (unit if unit else 'unit')\n",
        "\n",
        "x_label = 'Bootstrap Sample Proportion'\n",
        "\n",
        "ax.set_yticklabels(['{:g}'.format(x * 100) for x in y_vals])\n",
        "\n",
        "plt.ylabel(y_label)\n",
        "\n",
        "plt.xlabel(x_label)\n",
        "\n",
        "plt.xticks(rotation=90)\n",
        "\n",
        "plt.title('');\n",
        "\n",
        "plt.show()"
      ]
    },
    {
      "cell_type": "code",
      "execution_count": null,
      "id": "27609002-fdef-4ef8-891d-bc5158c519bf",
      "metadata": {
        "id": "27609002-fdef-4ef8-891d-bc5158c519bf"
      },
      "outputs": [],
      "source": []
    }
  ],
  "metadata": {
    "kernelspec": {
      "display_name": "Python 3 (ipykernel)",
      "language": "python",
      "name": "python3"
    },
    "language_info": {
      "codemirror_mode": {
        "name": "ipython",
        "version": 3
      },
      "file_extension": ".py",
      "mimetype": "text/x-python",
      "name": "python",
      "nbconvert_exporter": "python",
      "pygments_lexer": "ipython3",
      "version": "3.12.4"
    },
    "colab": {
      "provenance": [],
      "include_colab_link": true
    }
  },
  "nbformat": 4,
  "nbformat_minor": 5
}